{
 "cells": [
  {
   "cell_type": "code",
   "execution_count": 1,
   "metadata": {
    "collapsed": true
   },
   "outputs": [],
   "source": [
    "import requests  \n",
    "from bs4 import BeautifulSoup\n",
    "from selenium import webdriver \n",
    "from selenium.webdriver.common.proxy import Proxy\n",
    "from selenium.webdriver.common.proxy import ProxyType\n",
    "from selenium.webdriver.common.desired_capabilities import DesiredCapabilities"
   ]
  },
  {
   "cell_type": "code",
   "execution_count": 3,
   "metadata": {},
   "outputs": [],
   "source": [
    "r=requests.get('https://open.api.tianyancha.com/services/v4/open/searchV2.json?word=%E5%8C%97%E4%BA%AC%E7%99%BE%E5%BA%A6%E7%BD%91%E8%AE%AF%E7%A7%91%E6%8A%80%E6%9C%89%E9%99%90%E5%85%AC%E5%8F%B8')"
   ]
  },
  {
   "cell_type": "code",
   "execution_count": 4,
   "metadata": {},
   "outputs": [
    {
     "data": {
      "text/plain": [
       "'{\"error_code\":300008,\"reason\":\"缺少必要参数\"}'"
      ]
     },
     "execution_count": 4,
     "metadata": {},
     "output_type": "execute_result"
    }
   ],
   "source": [
    "r.text"
   ]
  },
  {
   "cell_type": "code",
   "execution_count": 25,
   "metadata": {
    "collapsed": true
   },
   "outputs": [],
   "source": [
    "proxy = Proxy(\n",
    "    {\n",
    "        'proxyType': ProxyType.MANUAL,\n",
    "        'httpProxy': 'http://122.72.18.60:80'\n",
    "    }\n",
    ")\n",
    "desired_capabilities = DesiredCapabilities.PHANTOMJS.copy()\n",
    "# 把代理ip加入到技能中\n",
    "proxy.add_to_capabilities(desired_capabilities)\n",
    "dcap={}\n",
    "dcap[\"phantomjs.page.settings.userAgent\"]='Mozilla/5.0 (Windows NT 10.0; Win64; x64) AppleWebKit/537.36 (KHTML, like Gecko) Chrome/61.0.3163.91 Safari/537.36'\n",
    "driver = webdriver.Chrome(executable_path=\"E:/Applications/Anaconda3/Scripts/phantomjs-2.1.1-windows/bin/chromedriver.exe\")"
   ]
  },
  {
   "cell_type": "code",
   "execution_count": 2,
   "metadata": {
    "collapsed": true
   },
   "outputs": [],
   "source": [
    "proxy = Proxy(\n",
    "    {\n",
    "        'proxyType': ProxyType.MANUAL,\n",
    "        'httpProxy': 'http://122.72.18.60:80'\n",
    "    }\n",
    ")\n",
    "desired_capabilities = DesiredCapabilities.PHANTOMJS.copy()\n",
    "# 把代理ip加入到技能中\n",
    "proxy.add_to_capabilities(desired_capabilities)\n",
    "dcap={}\n",
    "dcap[\"phantomjs.page.settings.userAgent\"]='Mozilla/5.0 (Windows NT 10.0; Win64; x64) AppleWebKit/537.36 (KHTML, like Gecko) Chrome/61.0.3163.91 Safari/537.36'\n",
    "driver = webdriver.PhantomJS(executable_path=\"E:/Applications/Anaconda3/Scripts/phantomjs-2.1.1-windows/bin/phantomjs.exe\",desired_capabilities=desired_capabilities)"
   ]
  },
  {
   "cell_type": "code",
   "execution_count": null,
   "metadata": {
    "collapsed": true
   },
   "outputs": [],
   "source": [
    "['--proxy=122.72.18.60:80','--proxy-type=http']"
   ]
  },
  {
   "cell_type": "code",
   "execution_count": 11,
   "metadata": {
    "collapsed": true
   },
   "outputs": [],
   "source": [
    "headers={\"Authorization\":'hkhjkhv'}\n",
    "cookies={\n",
    "    'PHPSESSID':'2oo0forn77gtln55n33k8um3n4',\n",
    "    'UM_distinctid':'16001152f55f3-034fc728f9a43e-178123e-144000-16001152f567eb',\n",
    "    }\n",
    "proxies={'http':'123.112.17.53:53281'}\n",
    "res=requests.get('https://open.api.tianyancha.com/services/v4/open/searchV2.json?word=%E5%8C%97%E4%BA%AC%E7%99%BE%E5%BA%A6%E7%BD%91%E8%AE%AF%E7%A7%91%E6%8A%80%E6%9C%89%E9%99%90%E5%85%AC%E5%8F%B8',headers=headers,timeout=5)"
   ]
  },
  {
   "cell_type": "code",
   "execution_count": 13,
   "metadata": {},
   "outputs": [
    {
     "data": {
      "text/plain": [
       "<Response [500]>"
      ]
     },
     "execution_count": 13,
     "metadata": {},
     "output_type": "execute_result"
    }
   ],
   "source": [
    "res"
   ]
  },
  {
   "cell_type": "code",
   "execution_count": 9,
   "metadata": {
    "collapsed": true
   },
   "outputs": [],
   "source": [
    "soup=BeautifulSoup(res.text,'lxml')"
   ]
  },
  {
   "cell_type": "code",
   "execution_count": 17,
   "metadata": {
    "collapsed": true
   },
   "outputs": [],
   "source": [
    "id0=soup.find('input',id=\"unique\").attrs['value']"
   ]
  },
  {
   "cell_type": "code",
   "execution_count": 18,
   "metadata": {
    "collapsed": true
   },
   "outputs": [],
   "source": [
    "cn=soup.find('input',id=\"companyname\").attrs['value']"
   ]
  },
  {
   "cell_type": "code",
   "execution_count": 21,
   "metadata": {
    "collapsed": true
   },
   "outputs": [],
   "source": [
    "url='http://www.qichacha.com/company_getinfos?unique='+id0+'&companyname='+cn+'&tab=base'"
   ]
  },
  {
   "cell_type": "code",
   "execution_count": 22,
   "metadata": {
    "collapsed": true
   },
   "outputs": [],
   "source": [
    "res=requests.get(url,headers=headers,cookies=cookies,proxies=proxies,timeout=5)"
   ]
  },
  {
   "cell_type": "code",
   "execution_count": 23,
   "metadata": {},
   "outputs": [
    {
     "data": {
      "text/plain": [
       "' <section class=\"panel b-a clear m_dataTab\"> <div class=\"panel-body\" style=\"padding-top: 5px\"> <a href=\"javascript:;\" onclick=\"boxScroll(\\'#Cominfo\\');\" class=\"btn btn-sm btn-default  m-r-sm m-t-sm\" style=\"white-space:nowrap;\">\\n              登记信息\\n          </a> <a href=\"javascript:;\" class=\"btn btn-sm btn-default  m-r-sm m-t-sm c_disable\" style=\"white-space:nowrap;cursor: default\">\\n                  主要负责人&nbsp;0\\n              </a> <a href=\"javascript:;\" onclick=\"boxScroll(\\'#touzilist\\');\" class=\"btn btn-sm btn-default  m-r-sm m-t-sm\" style=\"white-space:nowrap;\">\\n                  对外投资&nbsp;3\\n              </a> <a href=\"javascript:;\" class=\"btn btn-sm btn-default  m-r-sm m-t-sm c_disable\" style=\"white-space:nowrap;cursor: default\">\\n                  变更记录&nbsp;0\\n              </a> <a href=\"javascript:;\" class=\"btn btn-sm btn-default  m-r-sm m-t-sm c_disable\" style=\"white-space:nowrap;cursor: default\">\\n                  荣誉信息&nbsp;0\\n              </a> </div> </section> <section class=\"panel b-a base_info\" id=\"Cominfo\"> <div class=\"panel-heading b-b\"> <span class=\"font-bold font-15 text-dark\">登记信息</span> <span class=\"company-detail-watermark\"></span> </div> <div class=\"clear m-b\"></div> <table class=\"m_changeList\"> <tr><td class=\"ma_bluebg ma_left\" width=\"23%\">统一社会信用代码：</td> <td class=\"ma_left\" colspan=\"3\">\\n\\t   \\t\\t\\t\\t\\t514302007767575292\\n\\t   \\t\\t\\t\\t</td> </tr> <tr><td class=\"ma_bluebg ma_left\">法人/负责人：</td> <td class=\"ma_left\">\\n\\t   \\t\\t\\t\\t\\t叶天毅\\n\\t   \\t\\t\\t\\t</td> <td class=\"ma_bluebg ma_left\">注册资本：</td> <td class=\"ma_left\">\\n\\t   \\t\\t\\t\\t\\t00.00 万元\\n\\t   \\t\\t\\t\\t</td> </tr> <tr><td class=\"ma_bluebg ma_left\">成立日期：</td> <td class=\"ma_left\">\\n                                                   1999-04-28\\n                                          </td> <td class=\"ma_bluebg ma_left\">登记状态：</td> <td class=\"ma_left\">\\n                       正常\\n                   </td> </tr> <tr><td class=\"ma_bluebg ma_left\">社会组织类型：</td> <td class=\"ma_left\"> \\n\\t   \\t\\t\\t\\t\\t社会团体\\n\\t   \\t\\t\\t\\t</td> <td class=\"ma_bluebg ma_left\">登记机关：</td> <td class=\"ma_left\"> \\n\\t   \\t\\t\\t\\t\\t株洲市民政局\\n\\t   \\t\\t\\t\\t</td> </tr> <tr><td class=\"ma_bluebg ma_left\">发证机关：</td> <td class=\"ma_left\">\\n                        -\\n\\t   \\t\\t\\t\\t</td> <td class=\"ma_bluebg ma_left\">证书有效期：</td> <td class=\"ma_left\">\\n\\t   \\t\\t\\t\\t\\t至\\n\\t   \\t\\t\\t\\t</td> </tr> <tr><td class=\"ma_bluebg ma_left\">业务范围：</td> <td class=\"ma_left\" colspan=\"3\">\\n\\t   \\t\\t\\t\\t\\t-\\n\\t   \\t\\t\\t\\t</td> </tr> <tr><td class=\"ma_bluebg ma_left\">住所：</td> <td class=\"ma_left\" colspan=\"3\">\\n\\t   \\t\\t\\t\\t\\t\\t\\t\\t\\t   \\t\\t\\t芦淞区政府２号楼４楼\\n                            <a data-toggle=\"modal\" data-target=\"#mapModal\" id=\"mapPreviewTwo\" class=\"m-l c_a\"> 查看地图</a> </td> </tr> </table> </section> <section class=\"panel b-a\" id=\"touzilist\"> <div class=\"panel-heading b-b\"> <span class=\"font-bold font-15 text-dark\"> 对外投资</span> <span class=\"badge\">3</span> <span class=\"company-detail-watermark\"></span> </div> <div class=\"clear m-b\"></div> <ul class=\"list-group list-group-lg no-bg auto\"> <a  href=\"/firm_HUN_c578ac00c983d607e7c5106b95d125b6\" target=\"_blank\" class=\"list-group-item clearfix m_touzi\"> <span class=\"pull-left thumb-sm avatar m-r \"> <img  src=\"http://co-image.qichacha.com/CompanyImage/default.jpg\"> </span> <span class=\"clear\"> <span class=\"text-lg\">株洲芦淞服饰品牌拓展有限公司</span> <span style=\"margin-top:15px;margin-left:10px;\" class=\"c_cstatus  ca_green m-l-xs\">存续</span> <small class=\"text-gray clear text-ellipsis m-t-xs text-md\"> <label>法人：</label>  库洪春                            <label>成立日期：</label>  2010-01-22                            <label>注册资本：</label> 200万人民币                        </small> <small class=\"text-gray clear text-ellipsis text-md\"> <label> 地址：</label>湖南省株洲市芦淞区人民南路42号泰之岛8楼\\n                        </small> </span> </a> <a  href=\"/firm_HUN_2baaef989f561228a7efa48c3452fd1d\" target=\"_blank\" class=\"list-group-item clearfix m_touzi\"> <span class=\"pull-left thumb-sm avatar m-r \"> <img  src=\"http://co-image.qichacha.com/CompanyImage/default.jpg\"> </span> <span class=\"clear\"> <span class=\"text-lg\">湖南西迪美科服饰品牌运营有限公司</span> <span style=\"margin-top:15px;margin-left:10px;\" class=\"c_cstatus  ca_green m-l-xs\">存续</span> <small class=\"text-gray clear text-ellipsis m-t-xs text-md\"> <label>法人：</label>  周跃                            <label>成立日期：</label>  2009-08-10                            <label>注册资本：</label> 200万人民币                        </small> <small class=\"text-gray clear text-ellipsis text-md\"> <label> 地址：</label>湖南省株洲市芦淞区董家塅高科技工业园宇奴服饰办公楼\\n                        </small> </span> </a> <a  href=\"/firm_HUN_f4b6a7a3dc0063b11b058589db1053eb\" target=\"_blank\" class=\"list-group-item clearfix m_touzi\"> <span class=\"pull-left thumb-sm avatar m-r \"> <img  src=\"http://co-image.qichacha.com/CompanyImage/default.jpg\"> </span> <span class=\"clear\"> <span class=\"text-lg\">株洲市芦淞区市场服饰商品回收服务中心</span> <span style=\"margin-top:15px;margin-left:10px;\" class=\"c_cstatus  ca_green m-l-xs\">吊销</span> <small class=\"text-gray clear text-ellipsis m-t-xs text-md\"> <label>法人：</label>  李惠群                            <label>成立日期：</label>  2001-01-20                            <label>注册资本：</label> 10万人民币                        </small> <small class=\"text-gray clear text-ellipsis text-md\"> <label> 地址：</label>南大门停车场42号门面\\n                        </small> </span> </a> </ul> </section>'"
      ]
     },
     "execution_count": 23,
     "metadata": {},
     "output_type": "execute_result"
    }
   ],
   "source": [
    "res.text"
   ]
  },
  {
   "cell_type": "code",
   "execution_count": 30,
   "metadata": {
    "collapsed": true
   },
   "outputs": [],
   "source": [
    "\n",
    "#driver.maximize_window()\n",
    "driver.get('http://www.qichacha.com/firm_333b343e56d4b4bdac9345700bdca4b6.html') \n",
    "#driver.implicitly_wait(30)"
   ]
  },
  {
   "cell_type": "code",
   "execution_count": 27,
   "metadata": {
    "collapsed": true
   },
   "outputs": [],
   "source": [
    "driver.delete_all_cookies()"
   ]
  },
  {
   "cell_type": "code",
   "execution_count": 28,
   "metadata": {
    "collapsed": true
   },
   "outputs": [],
   "source": [
    "cookies=[\n",
    "    {'domain':'.qichacha.com','name':'PHPSESSID','value':'2oo0forn77gtln55n33k8um3n4','path':'/'},\n",
    "    {'domain':'.qichacha.com','name':'UM_distinctid','value':'16001152f55f3-034fc728f9a43e-178123e-144000-16001152f567eb','path':'/'},\n",
    "    #{'domain':'.qichacha.com','name':'zg_de1d1a35bfa24ce29bbf2c7eb17e6c4f','value':'%7B%22sid%22%3A%201511846653758%2C%22updated%22%3A%201511846697979%2C%22info%22%3A%201511846653759%2C%22superProperty%22%3A%20%22%7B%7D%22%2C%22platform%22%3A%20%22%7B%7D%22%2C%22utm%22%3A%20%22%7B%7D%22%2C%22referrerDomain%22%3A%20%22www.qichacha.com%22%2C%22cuid%22%3A%20%22d008ba845f39f111967d501444ccb9da%22%7D','path':'/'},\n",
    "    #{'domain':'.qichacha.com','name':'zg_did','value':'%7B%22did%22%3A%20%2216001152f3651e-0d0e4b47377cf6-178123e-144000-16001152f3b4d3%22%7D','path':'/'}\n",
    "]"
   ]
  },
  {
   "cell_type": "code",
   "execution_count": 29,
   "metadata": {
    "collapsed": true
   },
   "outputs": [],
   "source": [
    "for c in cookies:\n",
    "    driver.add_cookie(c)"
   ]
  },
  {
   "cell_type": "code",
   "execution_count": 31,
   "metadata": {},
   "outputs": [
    {
     "data": {
      "text/plain": [
       "'<!DOCTYPE html><html xmlns=\"http://www.w3.org/1999/xhtml\" lang=\"en\"><head> <meta charset=\"utf-8\" /> <meta http-equiv=\"X-UA-Compatible\" content=\"IE=edge,Chrome=1\" /> <meta name=\"viewport\" content=\"width=device-width, initial-scale=1, user-scalable=no\" /> <meta name=\"renderer\" content=\"webkit\" /> <meta name=\"author\" content=\"leslie\" /> <title>用户验证_企查查</title> <meta name=\"keywords\" content=\"企查查,企业查询,公司查询,工商查询,企业信用信息查询系统,企业工商信息查询,工商登记信息查询,企业财务信息查询,企业失信信息查询,企查查官网\" /> <meta name=\"description\" content=\"企查查为您提供企业信息查询,工商查询,信用查询,公司查询等相关信息查询；帮您快速了解企业信息,企业工商信息,企业信用信息,企业失信信息等企业经营和人员投资状况,查询更多企业信息就到企查查官网！\" /> <link rel=\"icon\" href=\"/material/theme/chacha/cms/v2/images/favicon.png\" /> <link rel=\"stylesheet\" href=\"/material/theme/chacha/cms/v2/css/bootstrap.css\" type=\"text/css\" /> <link rel=\"stylesheet\" href=\"/material/theme/chacha/cms/v2/css/font-awesome.min.css\" type=\"text/css\" /> <link rel=\"stylesheet\" href=\"/material/theme/chacha/cms/v2/css/icon.css\" type=\"text/css\" /> <link rel=\"stylesheet\" href=\"/material/theme/chacha/cms/v2/css/font.css\" type=\"text/css\" /> <link rel=\"stylesheet\" href=\"/material/theme/chacha/cms/v2/css/app.css?time=1508688006\" type=\"text/css\" /> <!--[if lt IE 9]>\\n    <link rel=\"stylesheet\" href=\"/material/theme/chacha/cms/v2/css/app_ie8.css?time=1508428800\" type=\"text/css\" />\\n    <![endif]--> <!--[if lt IE 9]>\\n    <script src=\"https://mos.meituan.com/media/lib/html5shiv.js\"></script>\\n    <script src=\"https://mos.meituan.com/media/lib/respond.js\"></script>\\n    <![endif]--> <script async=\"\" src=\"//aeu.alicdn.com/js/cj/99.js\" id=\"sd-collina-acjs\"></script><script src=\"http://push.zhanzhang.baidu.com/push.js\"></script><script type=\"text/javascript\" class=\"nc-required-js-1 nc-umid-script\" src=\"//g.alicdn.com/security/umscript/3.3.2/um.js\"></script><script type=\"text/javascript\" class=\"nc-required-js-1 nc-uab-script\" src=\"//af.alicdn.com/js/uac.js?_t=210002\"></script><script src=\"//cf.aliyun.com/nocaptcha/initialize.jsonp?a=QNYX&amp;t=QNYX:1512019662220:0.33664957330533696&amp;scene=register&amp;lang=cn&amp;v=v1.2.11&amp;href=http://www.qichacha.com/index_verify&amp;comm={}&amp;callback=initializeJsonp_08160865645420348\"></script><script type=\"text/javascript\" id=\"zhuge-js\" async=\"\" src=\"http://tongji.qichacha.com/zhuge.js\"></script><script type=\"text/javascript\" src=\"/material/js/siteconfig.js\"></script> <script src=\"/material/theme/chacha/cms/v2/js/jquery.min.js\"></script> <script type=\"text/javascript\" src=\"/material/theme/chacha/cms/v2/js/jquery.scrollTo.js\"></script> <script src=\"/material/theme/chacha/cms/v2/js/bootstrap.js\"></script> <script type=\"text/javascript\" src=\"/material/js/echarts.min.js\"></script> <script type=\"text/javascript\" src=\"/material/theme/chacha/cms/v2/js/china.js?time=1508428800\"></script> <link rel=\"stylesheet\" href=\"/material/theme/chacha/cms/v2/css/toastr.css\" /> <script type=\"text/javascript\" src=\"/material/theme/chacha/cms/v2/js/chartsUtil.js?times=1508428800\"></script> <script src=\"/material/theme/chacha/cms/v2/js/toastr.js\" type=\"text/javascript\"></script> <script src=\"/material/theme/chacha/cms/v2/js/custom.js?time=1508428800\"></script> <script type=\"text/javascript\">\\n    //window.onerror=function(e){console.error(e);return true;}\\n    window.zhuge = window.zhuge || [];window.zhuge.methods = \"_init debug identify track trackLink trackForm page\".split(\" \");\\n    window.zhuge.factory = function(b) {return function() {var a = Array.prototype.slice.call(arguments);a.unshift(b);\\n        window.zhuge.push(a);return window.zhuge;}};for (var i = 0; i &lt; window.zhuge.methods.length; i++) {\\n        var key = window.zhuge.methods[i];window.zhuge[key] = window.zhuge.factory(key);}window.zhuge.load = function(b, x) {\\n        if (!document.getElementById(\"zhuge-js\")) {var a = document.createElement(\"script\");var verDate = new Date();\\n            var verStr = verDate.getFullYear().toString()+ verDate.getMonth().toString() + verDate.getDate().toString();\\n            a.type = \"text/javascript\";a.id = \"zhuge-js\";a.async = !0;a.src = (location.protocol == \\'http:\\' ? \"http://tongji.qichacha.com/zhuge.js\" : \\'https://tongji.qichacha.com/zhuge.js\\');\\n            a.onerror = function(){window.zhuge.identify = window.zhuge.track = function(ename, props, callback){if(callback &amp;&amp; Object.prototype.toString.call(callback) === \\'[object Function]\\')callback();};};\\n            var c = document.getElementsByTagName(\"script\")[0];c.parentNode.insertBefore(a, c);window.zhuge._init(b, x)}};\\n    window.zhuge.load(\\'de1d1a35bfa24ce29bbf2c7eb17e6c4f\\',{\\n        visualizer: true,\\n        autoTrack:true\\n    });\\n            var zhugeIdentify = {\\n            name:  \\'halfvolley\\',\\n            groupid:  \\'11\\',\\n            client_type:\\'0\\',\\n            mobile:\\'13672176303\\',\\n            email:\\'\\',\\n            regist_time:\\'2017-11-29 10:52:57\\'\\n        };\\n        var vipStartTime = \\'0\\';\\n        if(vipStartTime){\\n            zhugeIdentify.vip_start_time = \\'\\';\\n        }\\n        window.zhuge.identify(\\'49140853d7cb27d0a60981a6823ebb26\\', zhugeIdentify);\\n        </script> <!--[if IE 6]><style>*html,*html body{background-image:url(about:blank);background-attachment:fixed;}.lay_top{position:absolute;bottom:auto;top:expression(eval(document.documentElement.scrollTop));}</style><![endif]--><style>@charset \"utf-8\";\\n@font-face{font-family:\\'nc_iconfont\\';src:url(\"//at.alicdn.com/t/font_1465353706_4784257.eot\");src:url(\"//at.alicdn.com/t/font_1465353706_4784257.eot?#iefix\") format(\\'embedded-opentype\\'),url(\"//at.alicdn.com/t/font_1465353706_4784257.woff\") format(\\'woff\\'),url(\"//at.alicdn.com/t/font_1465353706_4784257.ttf\") format(\\'truetype\\'),url(\"//at.alicdn.com/t/font_1465353706_4784257.svg#iconfont\") format(\\'svg\\')}@font-face{font-family:\\'ncpc_iconfont\\';src:url(\"//at.alicdn.com/t/font_384029_rhzpmteb25oecdi.eot\");src:url(\"//at.alicdn.com/t/font_384029_rhzpmteb25oecdi.eot?#iefix\") format(\\'embedded-opentype\\'),url(\"//at.alicdn.com/t/font_384029_rhzpmteb25oecdi.woff\") format(\\'woff\\'),url(\"//at.alicdn.com/t/font_384029_rhzpmteb25oecdi.ttf\") format(\\'truetype\\'),url(\"//at.alicdn.com/t/font_384029_rhzpmteb25oecdi.svg#ncpc_iconfont\") format(\\'svg\\')}.nc-container div#nc-loading-circle{background:transparent;width:20px;height:20px;display:inline-block;position:relative;vertical-align:middle}.nc-container div#nc-loading-circle .sk-circle{background:transparent;width:100%;height:100%;position:absolute;left:0;top:0}.nc-container #nc-loading-circle .sk-circle:before{content:\\'\\';display:block;margin:0 auto;width:15%;height:15%;background-color:#818181;border-radius:100%;-webkit-animation:sk-circleFadeDelay 1.2s infinite ease-in-out both;animation:sk-circleFadeDelay 1.2s infinite ease-in-out both}.nc-container #nc-loading-circle .sk-circle2{-webkit-transform:rotate(30deg);-ms-transform:rotate(30deg);transform:rotate(30deg)}.nc-container #nc-loading-circle .sk-circle3{-webkit-transform:rotate(60deg);-ms-transform:rotate(60deg);transform:rotate(60deg)}.nc-container #nc-loading-circle .sk-circle4{-webkit-transform:rotate(90deg);-ms-transform:rotate(90deg);transform:rotate(90deg)}.nc-container #nc-loading-circle .sk-circle5{-webkit-transform:rotate(120deg);-ms-transform:rotate(120deg);transform:rotate(120deg)}.nc-container #nc-loading-circle .sk-circle6{-webkit-transform:rotate(150deg);-ms-transform:rotate(150deg);transform:rotate(150deg)}.nc-container #nc-loading-circle .sk-circle7{-webkit-transform:rotate(180deg);-ms-transform:rotate(180deg);transform:rotate(180deg)}.nc-container #nc-loading-circle .sk-circle8{-webkit-transform:rotate(210deg);-ms-transform:rotate(210deg);transform:rotate(210deg)}.nc-container #nc-loading-circle .sk-circle9{-webkit-transform:rotate(240deg);-ms-transform:rotate(240deg);transform:rotate(240deg)}.nc-container #nc-loading-circle .sk-circle10{-webkit-transform:rotate(270deg);-ms-transform:rotate(270deg);transform:rotate(270deg)}.nc-container #nc-loading-circle .sk-circle11{-webkit-transform:rotate(300deg);-ms-transform:rotate(300deg);transform:rotate(300deg)}.nc-container #nc-loading-circle .sk-circle12{-webkit-transform:rotate(330deg);-ms-transform:rotate(330deg);transform:rotate(330deg)}.nc-container #nc-loading-circle .sk-circle2:before{-webkit-animation-delay:-1.1s;animation-delay:-1.1s}.nc-container #nc-loading-circle .sk-circle3:before{-webkit-animation-delay:-1s;animation-delay:-1s}.nc-container #nc-loading-circle .sk-circle4:before{-webkit-animation-delay:-.9s;animation-delay:-.9s}.nc-container #nc-loading-circle .sk-circle5:before{-webkit-animation-delay:-.8s;animation-delay:-.8s}.nc-container #nc-loading-circle .sk-circle6:before{-webkit-animation-delay:-.7s;animation-delay:-.7s}.nc-container #nc-loading-circle .sk-circle7:before{-webkit-animation-delay:-.6s;animation-delay:-.6s}.nc-container #nc-loading-circle .sk-circle8:before{-webkit-animation-delay:-.5s;animation-delay:-.5s}.nc-container #nc-loading-circle .sk-circle9:before{-webkit-animation-delay:-.4s;animation-delay:-.4s}.nc-container #nc-loading-circle .sk-circle10:before{-webkit-animation-delay:-.3s;animation-delay:-.3s}.nc-container #nc-loading-circle .sk-circle11:before{-webkit-animation-delay:-.2s;animation-delay:-.2s}.nc-container #nc-loading-circle .sk-circle12:before{-webkit-animation-delay:-.1s;animation-delay:-.1s}@-webkit-keyframes sk-circleFadeDelay{0%,39%,100%{opacity:0}40%{opacity:1}}@-webkit-keyframes sk-circleFadeDelay{0%,39%,100%{opacity:0}40%{opacity:1}}@keyframes sk-circleFadeDelay{0%,39%,100%{opacity:0}40%{opacity:1}}.nc-container .scale_text2 #nc-loading-circle .sk-circle:before{background-color:#fff}.nc_iconfont{font-family:\"nc_iconfont\";color:#ff3f08;font-size:16px;font-style:normal}.ncpc_iconfont{font-family:\"ncpc_iconfont\";color:#ff3f08;font-size:16px;font-style:normal}.captcha-error .icon_ban{float:left;font-size:16px;padding-right:5px;line-height:14px}.clickCaptcha_text .btn_refresh{font-style:normal;cursor:pointer;background:#fff;color:#737383}.imgCaptcha .btn_refresh{font-size:20px;cursor:pointer;background:#fff;color:#737383}.nc_voice{display:none;position:relative;margin-top:-34px;z-index:99;width:auto;height:34px;background:#fff}.omeo-code-img,.omeo-code-audio{font-size:0;text-align:left}.omeo-code-audiobox,.omeo-code-img a,.omeo-code-audio a,.omeo-code-state{display:inline-block;*display:inline;zoom:1;height:32px;vertical-align:top;font-size:12px}.omeo-code .omeo-code-refresh{background:transparent;width:32px;height:32px;font-size:20px;color:#888;text-align:center;text-decoration:none;padding-left:4px;line-height:32px}.omeo-code .omeo-switch{display:none;width:32px;height:32px;border-left:1px solid #e1e1e1;background-image:url(\"//g.alicdn.com/sd/ncpc/images/checkcode.png\");background-repeat:no-repeat}.omeo-img-active .omeo-code-img{display:block}.omeo-img-active .omeo-code-audio{display:none}.omeo-code-img img{border:1px solid #cdcdcd;cursor:pointer}.omeo-code-img .omeo-switch{background-position:9px -41px}.omeo-audio-active .omeo-code-audio{display:block}.omeo-audio-active .omeo-code-img{display:none}.omeo-code-refresh{position:relative;left:95px}.omeo-code-audiobox{position:relative;height:30px;line-height:32px;border:1px solid #e1e1e1;text-align:center;overflow:hidden;left:100px;top:1px;width:45%;min-width:80px;background-color:#eee}.omeo-code-audiobox a{display:block;text-decoration:none;color:#06c}.omeo-code-audiobox-playing a{visibility:hidden}.omeo-code-audiobox span,.omeo-code-audiobox b{visibility:hidden;position:absolute;top:0;left:0;height:30px;font-weight:100;overflow:hidden}.omeo-code-audiobox-playing span,.omeo-code-audiobox-playing b{visibility:visible}.omeo-code-audiobox span{z-index:0;width:0;background:#186bca}.omeo-code-audiobox b{width:100%;z-index:1;text-align:left;text-indent:30px;color:#999;background:url(\"//g.alicdn.com/sd/ncpc/images/checkcode.png\") no-repeat 14px -89px}.omeo-code-audio .omeo-switch{background-position:5px 10px}input[type=text]::-ms-clear{display:none}.omeo-box{position:relative;background-color:#fff}.omeo-code-echo{position:absolute;top:2px;left:2px}.omeo-code-echo input{padding:5px;height:18px;line-height:18px;border:1px solid #ddd;width:80px;outline:0}.omeo-code-state{height:30px;line-height:30px;text-indent:25px;white-space:nowrap;background-image:url(\"//g.alicdn.com/sd/ncpc/images/checkcode.png\");background-repeat:no-repeat;background-position:100px 100px}.omeo-code-echo .omeo-code-state-error{width:auto;background-position:7px -193px}.omeo-code-echo .omeo-code-state-success{position:absolute;width:30px;background-position:7px -243px}.omeo-code-state{position:absolute;left:0;top:28px}.nc_voice_close{display:inline-block;position:relative;cursor:pointer;left:95px;top:0;border-left:#ddd 2px solid;padding:0 0 0 7px;background-color:#fff;font-size:20px;color:#888;line-height:32px}.nc_help{position:absolute;width:100%;height:100%;left:0;top:0;z-index:99999}.nc_help .mask{background-color:#000;opacity:.5;filter:alpha(opacity=50);width:100%;height:100%;top:0;left:0}.nc_btn_close{position:absolute;height:20px;left:500px;border-radius:20px;padding:10px 30px;background-color:#aaa;color:#fff;cursor:pointer;z-index:10}.nc_btn_close:hover{background-color:#afafaf}.nc_hand{position:absolute;width:68px;height:53px;background-image:url(\"//g.alicdn.com/sd/ncpc/images/hand.png\");z-index:3}.nc_slide_bg{z-index:3;font-size:12px;text-align:center;color:#fff;line-height:34px}.nc_voicebtn{position:absolute;padding:0;right:-25px;font-size:23px;color:#888;cursor:pointer;line-height:34px}.nc_helpbtn{position:absolute;cursor:pointer;right:-95px;top:4px;font-size:12px;background-color:#ffb668;color:#fff;padding:4px;border-radius:2px;line-height:18px;display:none}.nc_helpbtn:before{width:0;height:0;content:\"\";position:absolute;left:-2px;top:6px;border-top:4px solid transparent;border-bottom:4px solid transparent;border-right:4px solid #ffb668}.nc-container .errloading{border:#faf1d5 1px solid;text-indent:3px;background-image:none;font-size:12px;width:290px;line-height:20px;padding:7px 5px 8px 5px;color:#ef9f06;}.nc-container .errloading a{color:#30a7fc}.nc_captcha_text .nc_err{float:left;text-indent:0}.button_move{transition:left .5s;-moz-transition:left .5s;-webkit-transition:left .5s;-o-transition:left .5s}.bg_move{transition:width .5s;-moz-transition:width .5s;-webkit-transition:width .5s;-o-transition:width .5s}.nc_slide_box{position:absolute}.nc_captcha_text{height:auto;line-height:20px;visibility:hidden;font-size:12px;color:#999;font-weight:normal}.nc-container .nc_captcha_img_text{width:auto;height:auto;line-height:20px;visibility:hidden;font-size:12px;color:#999;font-weight:normal;display:none;padding:0 0 10px 0;background-position:0 0;}.nc-container .nc_captcha_img_text span.nc-lang-cnt{line-height:inherit}.nc-container .imgCaptcha .nc_captcha_img_text{width:auto}.nc_captcha_img_text{height:auto;line-height:20px;visibility:hidden;font-size:12px;color:#999;font-weight:normal;display:none;padding:0 0 10px 3px;background-position:0 0}.nc-container .nc_wrapper{width:auto}.nc_scale{width:auto;height:34px;background:#e8e8e8;position:relative;margin:0;padding:0}.nc_scale.is_audio{margin-right:25px}.nc-container .nc_scale div{height:auto}.nc-container .nc_scale ul{list-style:none}.nc-container .nc_scale .btn_slide{color:#737383;background-image:none;-webkit-font-smoothing:antialiased;-moz-osx-font-smoothing:grayscale}.nc-container .nc_scale span{text-align:center;width:40px;height:32px;line-height:32px;border:1px solid #ccc;position:absolute;left:0;cursor:move;background:#fff;z-index:2}.nc-container .nc_scale span.nc-lang-cnt{*line-height:34px;float:none;width:auto;height:auto;*height:34px;border:none;position:static;cursor:inherit;background:none;z-index:0;display:inline}.nc_slide_button{width:40px;height:32px;border:1px solid #ccc;position:absolute;left:0;cursor:move;background:#fff url(\"//g.alicdn.com/sd/ncpc/images/rt.png\") no-repeat center;z-index:2}@media screen and (-ms-high-contrast:active),(-ms-high-contrast:none){.nc_scale span{height:32px}}.nc-container .nc_scale .btnok{cursor:default;background:#fff url(\"//g.alicdn.com/sd/ncpc/images/yes.png\") no-repeat center;z-index:3}.nc-container .nc_scale .btnok2{cursor:default;font-size:20px;background:#fff url(\"//g.alicdn.com/sd/ncpc/images/no.png\") no-repeat center;z-index:3}.nc-container .nc_scale .btn_warn{cursor:default;color:#ff3f08;line-height:34px;text-align:center;font-size:20px;background:#fff;z-index:3}.nc-container .clickCaptcha_text .btn_refresh{font-size:20px}.nc-container .clickCaptcha_text .icon_close{line-height:30px;margin-left:8px;cursor:default;color:#ff3f08;font-size:16px;float:left;margin-right:2px;background:transparent;z-index:3}.nc-container .nc_captcha_img_text .icon_close{cursor:default;color:#ff3f08;font-size:16px;float:left;margin-right:4px;background:transparent;z-index:3;line-height:18px}.nc-container .errloading .icon_warn{cursor:default;color:#ff3f08;font-size:18px;float:left;background:transparent;z-index:3}.nc-container .nc_scale .btn_ok{cursor:default;line-height:34px;text-align:center;font-size:20px;background:#fff;z-index:3;color:#76c61d}.nc-container .nc_scale .nc_ok,.nc-container .nc_scale .nc_bg{background:#7ac23c}.nc-container .nc_scale .nc_bg{position:absolute;height:100%;_height:34px;left:0;width:10px}.nc-container .nc_scale div.redbar{background:#fc461e;opacity:.5;filter:alpha(opacity=50)}.nc-container .nc_scale div.orange{background:#f00}.nc-container .nc_scale .scale_text{width:100%;height:100%;text-align:center;position:absolute;z-index:1;background:transparent;color:#9c9c9c;line-height:34px;font-size:12px;cursor:pointer}.nc-container .nc_scale .scale_text2{text-align:left;color:#fff;font-size:12px;text-indent:10px}.nc-container .nc_scale .scale_text2 b{padding-left:0;font-weight:normal}.nc-container .nc_scale .scale_text.scale_loading_text{text-align:center}.nc-container .nc_scale .imgCaptcha,.nc-container .nc_scale .clickCaptcha{display:none;overflow:hidden;border:1px solid #ccc;background:#fff;z-index:20000;}.nc-container .nc_scale .imgCaptcha p.error span,.nc-container .nc_scale .clickCaptcha p.error span{line-height:normal}.nc-container .nc_scale .imgCaptcha{height:auto}.nc-container .nc_scale .clickCaptcha{position:absolute;left:0;top:35px;height:270px;background:#fff;display:none;}.nc-container .nc_scale .clickCaptcha p.error i{color:#ff3f08;font-style:normal}.nc-container .nc_scale .clickCaptcha div{position:static;clear:both;width:100%;background:#fff;height:auto}.nc-container .nc_scale .clickCaptcha .clickCaptcha_text{height:30px;line-height:30px;font-size:12px;color:#999;}.nc-container .nc_scale .clickCaptcha .clickCaptcha_text b{font-weight:normal}.nc_btn_2{position:absolute;right:0;top:0;cursor:pointer;margin:2px 9px 0 0}.nc_iconfont.nc_btn_2{position:absolute;right:0;top:0;cursor:pointer}.nc_iconfont.nc_btn_1{position:absolute;top:10px;right:5px}.nc_btn_1{top:10px;right:10px}.scale_text i{font-style:normal;border:none;position:static;cursor:default;color:#fffc00;background:none;display:inline;width:100%}.nc-container .clickCaptcha .clickCaptcha_img{margin:0 auto;clear:both;position:relative;}.nc-container .clickCaptcha .clickCaptcha_img img{width:230px;height:230px;margin-left:10px;margin-top:5px}.nc-container .clickCaptcha .clickCaptcha_btn{margin:10px 0 0 15px;position:relative;text-align:left;}.nc-container .clickCaptcha .clickCaptcha_btn img{cursor:pointer}.nc-container .imgCaptcha{position:absolute;left:0;top:35px;height:auto;padding-bottom:15px;border:1px solid #ccc;background:#fff;}.nc-container .imgCaptcha div{position:static;width:90%;background-color:#fff}.nc-container .imgCaptcha,.nc-container .clickCaptcha{text-align:left;}.nc-container .imgCaptcha a,.nc-container .clickCaptcha a{color:#ff3f08}.nc-container .imgCaptcha .imgCaptcha_text{height:42px;line-height:42px;width:120px;background:#fff;font-size:14px;text-align:left;color:#747474;float:left;margin-left:10px;}.nc-container .imgCaptcha .imgCaptcha_text input{margin-top:5px;height:30px;line-height:30px;font-size:14px;width:90px;background:#fff}.nc-container .imgCaptcha .imgCaptcha_text input:focus{outline:none;color:#bbb}.nc-container .imgCaptcha .imgCaptcha_btn{margin:0 0 0 12px;*margin-left:0;clear:both;padding-top:5px;width:90%;}.nc-container .imgCaptcha .imgCaptcha_btn img{cursor:pointer}.nc-container .imgCaptcha .nc_scale_submit{margin:0 auto;cursor:pointer;background-color:#fc461e;width:120px;height:32px;line-height:32px;color:#fff;text-align:center}.nc-container .imgCaptcha .imgCaptcha_img{margin:4px 0 0 100px;height:40px;width:130px;overflow:hidden;cursor:pointer;}.nc-container .imgCaptcha .imgCaptcha_img img{width:130px}.nc-container .imgCaptcha .imgCaptcha_img input{border:solid 1px #ccc}.nc-lang-ar_MA,.nc-lang-ar_SA,.nc-lang-iw_HE,.nc-lang-iw_IL{text-align:right;*text-align:left;}.nc-lang-ar_MA .nc_scale .scale_text2,.nc-lang-ar_SA .nc_scale .scale_text2,.nc-lang-iw_HE .nc_scale .scale_text2,.nc-lang-iw_IL .nc_scale .scale_text2{text-align:right;}.nc-lang-ar_MA .nc_scale .scale_text2 span,.nc-lang-ar_SA .nc_scale .scale_text2 span,.nc-lang-iw_HE .nc_scale .scale_text2 span,.nc-lang-iw_IL .nc_scale .scale_text2 span{*display:inline-block;padding:0 56px 0 0}.nc-lang-ar_MA .nc_captcha_img_text,.nc-lang-ar_SA .nc_captcha_img_text,.nc-lang-iw_HE .nc_captcha_img_text,.nc-lang-iw_IL .nc_captcha_img_text{*text-align:right}.nc-lang-ar_MA span.nc-lang-cnt,.nc-lang-ar_SA span.nc-lang-cnt,.nc-lang-iw_HE span.nc-lang-cnt,.nc-lang-iw_IL span.nc-lang-cnt{text-align:right;direction:rtl}.nocaptcha span.nc-lang-cnt{float:none;height:auto;line-height:30px}.nc-container{font-size:12px;-ms-touch-action:none;touch-action:none;}.nc-container p{margin:0;padding:0;display:inline}.nc-container .scale_text.scale_text span[data-nc-lang=\"_startTEXT\"]{display:inline-block;width:100%}.nc-container .scale_text.scale_text.slidetounlock span[data-nc-lang=\"_startTEXT\"]{background:-webkit-gradient(linear,left top,right top,color-stop(0,#4d4d4d),color-stop(.4,#4d4d4d),color-stop(.5,#fff),color-stop(.6,#4d4d4d),color-stop(1,#4d4d4d));-webkit-background-clip:text;-webkit-text-fill-color:transparent;-webkit-animation:slidetounlock 3s infinite;-webkit-text-size-adjust:none}.nc-container .nc_scale .nc-align-center.scale_text2{text-align:center;text-indent:-42px}@-webkit-keyframes slidetounlock{0%{background-position:-200px 0}100%{background-position:200px 0}}.nc-container.tb-login .clickCaptcha_text .icon_close{line-height:30px;margin-left:0;cursor:default;color:#ff3f08;font-size:16px;float:left;margin-right:0;background:transparent;z-index:3}.nc-container.tb-login{position:relative;margin-top:20px;display:none;}.nc-container.tb-login .nc_scale{width:auto;}.nc-container.tb-login .nc_scale .scale_text2{text-indent:-42px;text-align:center;}.nc-container.tb-login .nc_scale .scale_text2 b{padding:0}.nc-container.tb-login .nc_scale.nc_err div.scale_text{background:#f79977}.nc-container.tb-login .errloading{width:auto}.nc-container.tb-login .imgCaptcha,.nc-container.tb-login .clickCaptcha{width:252px;*width:256px;border:0;*height:300px;min-height:300px;max-height:inherit !important;}.nc-container.tb-login .imgCaptcha div.login-msg.error,.nc-container.tb-login .clickCaptcha div.login-msg.error{background:#fff2f2}.nc-container.tb-login .imgCaptcha .captcha-error,.nc-container.tb-login .clickCaptcha .captcha-error{position:absolute;top:0;width:244px;height:auto;margin-bottom:15px;padding:3px;border:solid 1px #ff8e8e;line-height:18px}.nc-container.tb-login .imgCaptcha .captcha-inform,.nc-container.tb-login .clickCaptcha .captcha-inform{font-size:110%;margin-left:20px}.nc-container.tb-login .imgCaptcha{padding-top:66px;}.nc-container.tb-login .imgCaptcha .imgCaptcha_text{width:100px;margin-left:0;}.nc-container.tb-login .imgCaptcha .imgCaptcha_text input:focus{color:#000}.nc-container.tb-login .imgCaptcha .imgCaptcha_img{width:120px;_width:100px}.nc-container.tb-login .imgCaptcha .imgCaptcha_btn{width:100%;margin-left:0}.nc-container.tb-login .imgCaptcha .nc_scale_submit{width:100%;height:36px;line-height:36px;margin-top:20px;margin-left:0;border-radius:3px;font-size:16px;font-family:Tahoma,Helvetica,Arial,sans-serif;background:#ff3f08}.nc-container.tb-login .clickCaptcha{padding-top:40px;}.nc-container.tb-login .clickCaptcha .clickCaptcha_text{text-indent:4px}.nc-container.tb-login .clickCaptcha .clickCaptcha_img img{margin-left:10px}.nc-container.tb-login .nc_btn_1{top:77px;_top:57px}.nc-container.tb-login .nc_btn_2{top:36px}.login .nc-container.tb-login .login-msg p,.login-box .nc-container.tb-login .login-msg p{width:auto;float:left}.nc-container.tb-login.nc-old-login{margin:20px 0 10px 0;width:250px;}.nc-container.tb-login.nc-old-login .nc_wrapper{width:250px}.nc-container.tb-login.nc-old-login .imgCaptcha,.nc-container.tb-login.nc-old-login .clickCaptcha{width:250px;min-height:auto;}.nc-container.tb-login.nc-old-login .imgCaptcha .captcha-error,.nc-container.tb-login.nc-old-login .clickCaptcha .captcha-error{line-height:16px}.nc-container.tb-login.nc-old-login .clickCaptcha{padding-top:28px;}.nc-container.tb-login.nc-old-login .clickCaptcha .clickCaptcha_img img{width:200px;height:200px}.nc-container.nc-old-login.show-click-captcha{padding-bottom:60px}.nc-container.nc-old-login.show-click-captcha.nc-tm-min-fix{padding-bottom:40px}.nc-container.tb-login.nc-tm-min-fix .clickCaptcha{max-height:340px !important}#content .login-box .bd .nc-container.tb-login .login-msg{margin:10px auto 15px auto}#content .login-box .bd .nc-container.tb-login.nc-old-login.show-click-captcha .login-msg{margin:2px 0 0 0}.nc-container .nc_scale .nc-cc{display:none;position:absolute;left:0;top:35px;z-index:20000;width:360px;height:570px;border:1px solid #5eaef1;border-radius:4px;background:#fff;font-size:14px;line-height:18px;color:#333;}.nc-container .nc_scale .nc-cc.nc-cc-status-loading .nc-cc-btn,.nc-container .nc_scale .nc-cc.nc-cc-status-verifing .nc-cc-btn{background-color:#90c1eb}.nc-container .nc_scale .nc-cc.nc-cc-status-loading .nc-cc-btn,.nc-container .nc_scale .nc-cc.nc-cc-status-verifing .nc-cc-btn,.nc-container .nc_scale .nc-cc.nc-cc-status-loading .nc-cc-refresh,.nc-container .nc_scale .nc-cc.nc-cc-status-verifing .nc-cc-refresh{cursor:default}.nc-container .nc_scale .nc-cc.nc-cc-status-loading .nc-cc-refresh,.nc-container .nc_scale .nc-cc.nc-cc-status-verifing .nc-cc-refresh{color:#999}.nc-container .nc_scale .nc-cc a{color:#3199f4;text-decoration:none}.nc-container .nc_scale .nc-cc .nc_iconfont{vertical-align:top;margin-right:8px}.nc-container .nc_scale .nc-cc-btn{display:inline-block;*display:inline;*zoom:1;vertical-align:top;letter-spacing:normal;word-spacing:normal;width:100px;line-height:30px;text-align:center;background-color:#3199f4;color:#fff;border-radius:4px;cursor:pointer;}.nc-container .nc_scale .nc-cc-btn.nc-cc-disabled{background-color:#90c1eb;cursor:default}.nc-container .nc_scale .nc-cc-btn .nc-lang-cnt{line-height:18px}.nc-container .nc_scale .nc-cc-header{padding:20px 20px 19px 20px;height:100px;background:#f4f8fa;border-bottom:1px solid #ccc}.nc-container .nc_scale .nc-cc-img1-box{float:left;width:100px;height:100px;margin-right:16px}.nc-container .nc_scale .nc-cc-txt{overflow:hidden;*zoom:1;line-height:30px;padding-top:11px}.nc-container .nc_scale .nc-cc-img2-box{position:relative;padding:0 20px;margin-top:20px}.nc-container .nc_scale .nc-cc-items{position:absolute;left:20px;_left:0;top:0;width:320px;overflow:hidden}.nc-container .nc_scale .nc-cc-items-inner{margin-right:-20px}.nc-container .nc_scale .nc-cc-item{position:relative;display:inline-block;*display:inline;*zoom:1;vertical-align:top;letter-spacing:normal;word-spacing:normal;margin-right:10px;margin-bottom:10px;border:1px solid #ccc;width:98px;height:98px;background:url(\"//gtms02.alicdn.com/tps/i2/T1ty2QFNNXXXc6Yc2r-1-1.gif\");}.nc-container .nc_scale .nc-cc-item:hover{border-color:#3199f4}.nc-container .nc_scale .nc-cc-item .nc_iconfont{display:none;position:absolute;right:0;bottom:0;color:#3199f4;font-size:22px;margin-right:0}.nc-container .nc_scale .nc-cc-item.nc-cc-selected .nc_iconfont{display:block}.nc-container .nc_scale .nc-cc-tip{display:none;position:absolute;left:0;bottom:60px;width:360px;line-height:18px;text-align:center;color:#eb4f38;}.nc-container .nc_scale .nc-cc-tip span{line-height:normal}.nc-container .nc_scale .nc-cc-footer{position:absolute;left:0;bottom:20px;width:360px;height:30px;line-height:30px;text-align:center;}.nc-container .nc_scale .nc-cc-footer .nc_iconfont{color:#c4cbd0}.nc-container .nc_scale .nc-cc-refresh,.nc-container .nc_scale .nc-cc-wait{position:absolute;left:20px;top:0;color:#3199f4;cursor:pointer}.nc-container .nc_scale .nc-cc-wait{display:none}.nc-container .nc_scale .nc-cc-cancel{position:absolute;right:20px;top:0;color:#3199f4;cursor:pointer;}.nc-container .nc_scale .nc-cc-cancel .nc_iconfont{position:relative;top:-1px}.nc-container .nc_scale .nc-cc-loading{margin-top:247px;text-align:center;line-height:14px}.nc-container .nc_scale .nc-cc-loading-img{display:inline-block;*display:inline;*zoom:1;vertical-align:top;letter-spacing:normal;word-spacing:normal;vertical-align:middle;background:url(\"//img.alicdn.com/tps/TB1OdxsKpXXXXcgXFXXXXXXXXXX-14-14.gif\") no-repeat;width:14px;height:14px;position:relative;top:-1px;margin-right:9px}.nc-container .nc_scale .nc-cc-fail{position:absolute;left:50%;top:50%;width:320px;height:180px;margin-left:-160px;margin-top:-90px;background:#fff;border-radius:4px}.nc-container .nc_scale .nc-cc-fail-inner{text-align:center;padding:55px 10px 10px}.nc-container .nc_scale .nc-cc-fail-action{margin:28px 0 18px;}.nc-container .nc_scale .nc-cc-fail-action a{display:inline-block;*display:inline;*zoom:1;vertical-align:top;letter-spacing:normal;word-spacing:normal;line-height:30px;margin-left:16px}.nc-container .nc_scale .nc-cc-contact{text-align:right;color:#666;padding-right:9px}.nc-container .nc_scale .nc-cc-mask{display:none;position:absolute;left:0;top:0;width:360px;height:570px;background:rgba(0,0,0,0.3);filter:progid:DXImageTransform.Microsoft.gradient(enabled=\\'true\\',startColorstr=\\'#4C000000\\', endColorstr=\\'#4C000000\\');}:root .nc-container .nc_scale .nc-cc-mask{-webkit-filter:none;filter:none}.nc-container .nc_scale .nc-cc-arrow-1,.nc-container .nc_scale .nc-cc-arrow-2{display:none;position:absolute;top:340px;border:solid transparent;height:0;width:0}.nc-container .nc_scale .nc-cc-arrow-1{border-width:16px;margin-top:-1px}.nc-container .nc_scale .nc-cc-arrow-2{border-width:15px}.nc-container .nc_scale .nc-cc-right .nc-cc-arrow-1,.nc-container .nc_scale .nc-cc-left .nc-cc-arrow-1,.nc-container .nc_scale .nc-cc-right .nc-cc-arrow-2,.nc-container .nc_scale .nc-cc-left .nc-cc-arrow-2{display:block;_display:none}.nc-container .nc_scale .nc-cc-right{left:180px;top:-339px;}.nc-container .nc_scale .nc-cc-right .nc-cc-arrow-1{border-right-color:#5eaef1;left:-32px}.nc-container .nc_scale .nc-cc-right .nc-cc-arrow-2{border-right-color:#fff;left:-30px}.nc-container .nc_scale .nc-cc-left{left:-335px;top:-339px;}.nc-container .nc_scale .nc-cc-left .nc-cc-arrow-1{border-left-color:#5eaef1;right:-32px}.nc-container .nc_scale .nc-cc-left .nc-cc-arrow-2{border-left-color:#fff;right:-30px}</style></head> <body style=\"\"> <header class=\"bg-white header header-md navbar  box-shadow\"> <div class=\"container \"> <div class=\"navbar-header\"> <a class=\"btn btn-link visible-xs\" data-toggle=\"collapse\" data-target=\"#bs-navbar\" aria-controls=\"bs-navbar\" aria-expanded=\"false\"> <i class=\"fa fa-bars\"></i> </a> <a href=\"/\" class=\"navbar-brand\"> <img src=\"/material/theme/chacha/cms/v2/images/logo4.png\" class=\"m-r-sm\" alt=\"企查查\" /> </a> <a class=\"btn btn-link visible-xs\" href=\"/user_follow\"> <i class=\"fa fa-user\"></i> </a> </div> <ul class=\"nav navbar-nav collapse navbar-collapse V3_index_topnav\" id=\"bs-navbar\"> <li class=\"active\"><a href=\"/\">查企业</a></li> <li class=\"\"><a href=\"/boss\">搜老板</a></li> <li class=\"\"><a href=\"/more_analysis\">找关系</a></li> <li class=\"dropdown nav-app\"> <a href=\"#\" class=\"dropdown-toggle\" data-toggle=\"dropdown\">\\n                    应用 <i class=\"fa  fa-angle-down\"></i> </a> <section class=\"dropdown-menu aside-lg bg-white on animated fadeInLeft app-box\"> <div class=\"row m-l-none m-r-none m-t m-b text-center\"> <div class=\"col-xs-4\"> <div class=\"padder-v\"> <a href=\"/radar_statistics\" class=\"header-icon-text\"> <span class=\"m-b-xs block\"> <i class=\"header-icon1\"></i> </span> <span>雷达监控</span> </a> </div> </div> <div class=\"col-xs-4\"> <div class=\"padder-v\"> <a href=\"/map\" class=\"header-icon-text\"> <span class=\"m-b-xs block\"> <i class=\"header-icon3\"></i> </span> <span>千寻地图</span> </a> </div> </div> <div class=\"col-xs-4\"> <div class=\"padder-v\"> <a href=\"/daohang\" class=\"header-icon-text\"> <span class=\"m-b-xs block\"> <i class=\"header-icon2\"></i> </span> <span>网址导航</span> </a> </div> </div> <div class=\"col-xs-4\"> <div class=\"padder-v\"> <a href=\"http://fapiao.qichacha.com\" class=\"header-icon-text\"> <span class=\"m-b-xs block\"> <i class=\"header-icon4\"></i> </span> <span>发票助手</span> </a> </div> </div> </div></section> </li> </ul> <script type=\"text/javascript\">\\n                var pathname_ = window.location.pathname; \\n                if(pathname_ == \\'/search_riskinfo\\' || pathname_ == \\'/search_intellectualinfo\\'){\\n                    $(\\'#tpsearch\\').attr(\\'action\\', pathname_);\\n                }\\n            </script> <ul class=\"nav navbar-nav navbar-right m-n hidden-xs  user\"> <li class=\"\"><a id=\"head-nav\" href=\"/app\">APP下载</a></li> <li class=\"head-line\">|</li> <li class=\"\"><a id=\"head-nav\" href=\"/vip\" target=\"_blank\">会员服务</a></li> <li class=\"head-line\">|</li> <li class=\"\"><a id=\"head-nav\" href=\"/vip_qiye\" target=\"_blank\">企业版</a></li> <li class=\"head-line\">|</li> <li class=\"dropdown  nav-user\"> <a href=\"#\" class=\"dropdown-toggle\" data-toggle=\"dropdown\"> <span class=\"thumb-sm avatar pull-left\"> <img src=\" http://q.qlogo.cn/qqapp/101188807/2BB894F63763FC7BF5EFD48FA15911C0/100 \" id=\"headface\" alt=\"个人中心\" /> </span>\\n                    hal <b class=\"caret\"></b> </a> <ul class=\"dropdown-menu animated fadeInRight profile-box\"> <li> <a href=\"/msg\"> <i class=\"fa fa-bell width20\"></i> 消息中心\\n                        </a> </li> <li> <a href=\"/radar\"><i class=\"fa fa-eye width20\"></i> 我的监控</a> </li> <li class=\"divider\"></li> <li> <a href=\"/balance_manage\"><i class=\"fa  fa-cny width20\"></i> 我的账户</a> </li> <li> <a href=\"/user_credit\"><i class=\"fa fa-credit-card width20\"></i> 用户积分</a> </li> <li class=\"divider\"></li> <li> <a href=\"/order_manage\"> <i class=\"fa fa-krw width20\"></i> 我的报告</a> </li> <li> <span class=\"arrow top\"></span> <a href=\"/user_follow\"><i class=\"fa fa-heart width20\"></i> 我的关注</a> </li> <li><a href=\"/user_download\"><i class=\"fa fa-download width20\"></i> 我的下载</a></li> <li><a href=\"/user_note\"><i class=\"fa fa-book width20\"></i> 我的笔记</a></li> <li> <a href=\"/user_setting\"><i class=\"fa  fa-cog width20\"></i> 账号设置</a> </li> <li class=\"divider\"></li> <li> <a href=\"/user_logout\"><i class=\"fa fa-power-off width20\"></i>  退出</a> </li> </ul> </li> </ul> </div> </header> <script type=\"text/javascript\" src=\"/material/js/jquery.cookie.js\"></script> <script type=\"text/javascript\" src=\"/material/js/jquery.validate.min.js\"></script> <script type=\"text/javascript\" src=\"/material/js/jquery.form.min.js\"></script> <script type=\"text/javascript\" src=\"/material/js/global.js\"></script><script type=\"text/javascript\" src=\"/material/common/2013admin/js/artDialog4.1.7/artDialog.js\"></script><script type=\"text/javascript\" src=\"/material/common/2013admin/js/artDialog4.1.7/plugins/iframeTools.source.js\"></script><link rel=\"stylesheet\" type=\"text/css\" href=\"/material/common/2013admin/js/artDialog4.1.7/skins/blue.css\" /> <style>\\n    body{\\n        background-color: #ffffff; \\n    }\\n    .regTab{\\n        cursor: pointer;\\n        font-size: 20px;\\n        padding: 0;\\n    }\\n    .loginBoxBorder{\\n        border: 1px solid #e6e6e6;\\n    }\\n    .nc-container .nc_wrapper{\\n        width: 303px !important;\\n    }\\n    .nc-container .nc_scale span{\\n        height: 34px;\\n    }\\n</style> <div class=\"container\"> <div class=\"row\"> <div class=\"col-md-12 bg-white m-t-lg wrapper-lg\" style=\"margin-bottom:100px;margin-top:100px;\"> <div class=\"col-sm-4\"></div> <div class=\"col-sm-4 loginBoxBorder\" style=\"padding: 0;\"> <div class=\"col-sm-12\" style=\"padding: 0\"> <div class=\"text-center regTab m-t-xl\">您的操作过于频繁，验证后再操作</div> </div> <div class=\"col-sm-12\"> <div class=\"box m-t-xl m-b-xl\"> <div id=\"dom_id\" class=\"m-l-lg nc-container\" data-nc-idx=\"1\">\\n<div id=\"nc_1_wrapper\" class=\"nc_wrapper\">\\n<div id=\"nc_1_n1t\" class=\"nc_scale\">\\n<div id=\"nc_1__bg\" class=\"nc_bg\"></div>\\n<span id=\"nc_1_n1z\" class=\"nc_iconfont btn_slide\">\\ue601</span>\\n<div id=\"nc_1__scale_text\" class=\"scale_text slidetounlock\"><span class=\"nc-lang-cnt\" data-nc-lang=\"_startTEXT\">请按住滑块，拖动到最右边</span></div>\\n<div id=\"nc_1_clickCaptcha\" class=\"clickCaptcha\">\\n<div class=\"clickCaptcha_text\">\\n<b id=\"nc_1__captcha_text\" class=\"nc_captch_text\"></b>\\n<i id=\"nc_1__btn_2\" class=\"nc_iconfont nc_btn_2 btn_refresh\">\\ue607</i>\\n</div>\\n<div class=\"clickCaptcha_img\"></div>\\n<div class=\"clickCaptcha_btn\"></div>\\n</div>\\n<div id=\"nc_1_imgCaptcha\" class=\"imgCaptcha\">\\n<div class=\"imgCaptcha_text\"><input id=\"nc_1_captcha_input\" maxlength=\"6\" type=\"text\" style=\"ime-mode:disabled\" /></div>\\n<div class=\"imgCaptcha_img\" id=\"nc_1__imgCaptcha_img\"></div>\\n<i id=\"nc_1__btn_1\" class=\"nc_iconfont nc_btn_1 btn_refresh\" onclick=\"document.getElementById(\\'nc_1__imgCaptcha_img\\').children[0].click()\">\\ue607</i>\\n<div class=\"imgCaptcha_btn\">\\n<div id=\"nc_1__captcha_img_text\" class=\"nc_captcha_img_text\"></div>\\n<div id=\"nc_1_scale_submit\" class=\"nc_scale_submit\"></div>\\n</div>\\n</div>\\n<div id=\"nc_1_cc\" class=\"nc-cc\"></div>\\n<i id=\"nc_1__voicebtn\" tabindex=\"0\" role=\"button\" class=\"nc_voicebtn nc_iconfont\" style=\"display:none\">\\ue604</i>\\n<b id=\"nc_1__helpbtn\" class=\"nc_helpbtn\"><span class=\"nc-lang-cnt\" data-nc-lang=\"_learning\">了解新功能</span></b>\\n</div>\\n<div id=\"nc_1__voice\" class=\"nc_voice\"></div>\\n</div>\\n</div> </div> <input type=\"hidden\" id=\"csessionid\" name=\"csessionid\" /> <input type=\"hidden\" id=\"sig\" name=\"sig\" /> <input type=\"hidden\" id=\"token\" name=\"token\" /> <input type=\"hidden\" id=\"scene\" name=\"scene\" /> <div class=\"m-l-lg m-r-lg m-b-xl\"> <button type=\"submit\" class=\"btn btn-success m-t-n-xs btn-block btn-lg\" id=\"verify\"> <strong>验证一下</strong> </button> </div> </div> </div> </div> </div> </div> <script type=\"text/javascript\">\\n    $(function () {\\n        var url = \\'/firm_333b343e56d4b4bdac9345700bdca4b6.html\\';\\n        var type = \\'companyview\\';\\n        $(\\'#verify\\').on(\\'click\\',function(){\\n            var scene = $(\"input[name=\\'scene\\']\").val();\\n            var token = $(\"input[name=\\'token\\']\").val();\\n            var sig = $(\"input[name=\\'sig\\']\").val();\\n            var csessionid = $(\"input[name=\\'csessionid\\']\").val();\\n            var afsFlag = \\'1\\';\\n\\n            if(afsFlag) {\\n                if (!scene || !token || !sig || !csessionid) {\\n                    faldia(\\'请先拖动滑块！\\');\\n                    return false;\\n                }\\n            }\\n\\n            $.ajax({\\n                url:INDEX_URL + \\'index_verifyAction\\',\\n                data:{\\n                    scene:scene,\\n                    token:token,\\n                    sig:sig,\\n                    csessionid:csessionid,\\n                    type:type\\n                },\\n                dataType:\\'json\\',\\n                type:\\'post\\',\\n                success:function(result){\\n                    if(result.success){\\n                        location.href = url;\\n                    }else{\\n                        faldia({\\'content\\':\\'操作失败：\\'+result.msg});\\n                        nc.reload();\\n                    }\\n                },\\n                error:function(res){\\n                }\\n            });\\n        });\\n    });\\n\\n\\n</script> <link type=\"text/css\" href=\"//g.alicdn.com/sd/ncpc/nc.css?t=1496736382785\" rel=\"stylesheet\" disabled=\"\" /> <script type=\"text/javascript\" src=\"//g.alicdn.com/sd/ncpc/nc.js?t=1496736382785\"></script> <div id=\"_umfp\" style=\"display:inline;width:1px;height:1px;overflow:hidden\"></div> <script>\\n    var nc = new noCaptcha();\\n    var nc_appkey = \\'QNYX\\';  // 应用标识,不可更改\\n    var nc_scene = \\'register\\';  //场景,不可更改\\n    var nc_token = [nc_appkey, (new Date()).getTime(), Math.random()].join(\\':\\');\\n    var nc_option = {\\n        renderTo: \\'#dom_id\\',//渲染到该DOM ID指定的Div位置\\n        appkey: nc_appkey,\\n        scene: nc_scene,\\n        token: nc_token,\\n        callback: function (data) {// 校验成功回调\\n            document.getElementById(\\'csessionid\\').value = data.csessionid;\\n            document.getElementById(\\'sig\\').value = data.sig;\\n            document.getElementById(\\'token\\').value = nc_token;\\n            document.getElementById(\\'scene\\').value = nc_scene;\\n        }\\n    };\\n    nc.init(nc_option);\\n</script> <link rel=\"stylesheet\" href=\"/material/theme/chacha/cms/v2/css/footer.css?time=1508428800\" type=\"text/css\" /> <link rel=\"stylesheet\" href=\"/material/theme/chacha/cms/v2/css/animate.css?time=1508428800\" type=\"text/css\" /> <footer class=\"bg-dark\" id=\"footer\" style=\"position: relative;\"> <div class=\"dk\"> <div class=\"container\"> <div class=\"row m-t-lg m-b-lg\"> <footer class=\"footer \"> <div class=\"row footer-top\"> <div class=\"col-md-12\"> <div class=\"row about\"> <div class=\"col-md-2\"> <h4>关于我们</h4> <ul class=\"list-unstyled\"> <li><a href=\"/cms?id=13\">联系我们</a></li> <li><a href=\"/cms?id=14\">用户协议</a></li> <li><a href=\"/cms?id=15\">用户隐私权</a></li> <li><a href=\"/cms?id=16\">友情链接</a></li> <li><a href=\"/cms?id=892\">关于我们</a></li> <li><a href=\"/cms?id=14578\">用户帮助</a></li> <li><a href=\"/yellowpage\">公司黄页</a></li> <li><a href=\"http://open.qichacha.com\" target=\"_blank\"> 开放平台</a></li> </ul> </div> <div class=\"col-md-3\"> <h4>联系方式</h4> <ul class=\"list-unstyled\"> <li>联系电话：400-998-5212</li> <li>官方客服QQ：4009985212</li> <li>客服邮箱：kf@qichacha.com</li> <li>微信客服：qccgf123</li> <li>微信公众号：qcc365</li> <li>地址：苏州工业园区月亮湾路10号慧湖大厦A901室</li> </ul> </div> <div class=\"col-md-4\"> <h4>友情链接</h4> <ul class=\"list-unstyled m_frilink\"> <li> <a href=\"http://sanban.qichacha.com\" target=\"_blank\">新三板查询</a> <a href=\"http://ipo.qichacha.com/\" target=\"_blank\">上市公司查询</a> <a href=\"http://www.qichacha.com/gongsi\" target=\"_blank\">企查查公司大全</a> <a href=\"http://m.qichacha.com\" target=\"_blank\">企查查移动版</a> <a href=\"http://www.qichacha.com/dianping\" target=\"_blank\">企查查社区</a> <a href=\"http://www.qichacha.com/more_shixins\" target=\"_blank\">风险信息搜索</a> <a href=\"http://www.qichacha.com/more_brands\" target=\"_blank\">知识产权搜索</a> <a href=\"http://www.qichacha.com/daohang\" target=\"_blank\">企业网址导航</a> <a href=\"http://www.qichacha.com/boss\" target=\"_blank\">企业高管查询</a> <a href=\"http://www.qichacha.com/tax\" target=\"_blank\">企业税号查询</a> <a href=\"http://www.qichacha.com/news\" target=\"_blank\">企业新闻头条</a> <a href=\"http://hao.qichacha.com\" target=\"_blank\">企业大数据导航</a> <a href=\"http://www.qichacha.com/weixin\" target=\"_blank\">企查查下载</a> <a href=\"https://cia.qichacha.com\" target=\"_blank\">企业情报局</a> <a href=\"http://www.tmkoo.com/\" target=\"_blank\">标库网</a> <a href=\"http://www.767stock.com/\" target=\"_blank\">乐晴智库</a> </li> </ul> </div> <div class=\"col-md-3\" style=\"text-align: right;margin-top:10px;\"> <div class=\"row m_codeimg\"> <div class=\"col-md-6\"> <span class=\"ma_wx\">微信公众号</span> <img src=\"/material/theme/chacha/cms/v2/images/v3/code_wx.png\" alt=\"企查查微信公众号\" style=\"width:117px;\" /> </div> <div class=\"col-md-6\"> <span class=\"ma_app\">扫码下载APP</span> <img src=\"/material/theme/chacha/cms/v2/images/v3/code_app.png\" alt=\"企查查APP下载\" style=\"width:117px;\" /> </div> </div> </div> </div> </div> </div> <hr style=\"border-top: 1px solid #5f6d8f;\" /> <div class=\"row footer-bottom text-center\"> <div class=\"text-muted m-t-sm\">\\n                                数据来源：\\n                                <span>全国企业信用信息公示系统</span>\\xa0|\\n                                <span>中国裁判文书网</span>\\xa0|\\n                                <span>中国执行信息公开网</span>\\xa0|\\n                                <span>国家知识产权局</span>\\xa0|\\n                                <span>商标局</span>\\xa0|\\n                                <span>版权局</span> </div> </div> <div class=\"row footer-bottom text-center\" style=\"display: none\"> <div class=\"text-muted m-t-sm\">\\n                                热点省份：\\n                                                                <a href=\"/g_AH.html\" target=\"_blank\">安徽企业</a>\\xa0|\\n                                                                <a href=\"/g_BJ.html\" target=\"_blank\">北京企业</a>\\xa0|\\n                                                                <a href=\"/g_CQ.html\" target=\"_blank\">重庆企业</a>\\xa0|\\n                                                                <a href=\"/g_FJ.html\" target=\"_blank\">福建企业</a>\\xa0|\\n                                                                <a href=\"/g_GS.html\" target=\"_blank\">甘肃企业</a>\\xa0|\\n                                                                <a href=\"/g_GD.html\" target=\"_blank\">广东企业</a>\\xa0|\\n                                                                <a href=\"/g_GX.html\" target=\"_blank\">广西企业</a>\\xa0|\\n                                                                <a href=\"/g_GZ.html\" target=\"_blank\">贵州企业</a>\\xa0|\\n                                                                <a href=\"/g_HAIN.html\" target=\"_blank\">海南企业</a>\\xa0|\\n                                                                <a href=\"/g_HB.html\" target=\"_blank\">河北企业</a>\\xa0|\\n                                                                <a href=\"/g_HLJ.html\" target=\"_blank\">黑龙江企业</a>\\xa0|\\n                                                                <a href=\"/g_HEN.html\" target=\"_blank\">河南企业</a>\\xa0|\\n                                                                <a href=\"/g_HUB.html\" target=\"_blank\">湖北企业</a>\\xa0|\\n                                                                <a href=\"/g_HUN.html\" target=\"_blank\">湖南企业</a>\\xa0|\\n                                                                <a href=\"/g_JS.html\" target=\"_blank\">江苏企业</a>\\xa0|\\n                                                                <a href=\"/g_JX.html\" target=\"_blank\">江西企业</a>\\xa0|\\n                                                                <a href=\"/g_JL.html\" target=\"_blank\">吉林企业</a>\\xa0|\\n                                                                <a href=\"/g_LN.html\" target=\"_blank\">辽宁企业</a>\\xa0|\\n                                                                <a href=\"/g_NMG.html\" target=\"_blank\">内蒙古企业</a>\\xa0|\\n                                                                <a href=\"/g_NX.html\" target=\"_blank\">宁夏企业</a>\\xa0|\\n                                                                <a href=\"/g_QH.html\" target=\"_blank\">青海企业</a>\\xa0|\\n                                                                <a href=\"/g_SD.html\" target=\"_blank\">山东企业</a>\\xa0|\\n                                                                <a href=\"/g_SH.html\" target=\"_blank\">上海企业</a>\\xa0|\\n                                                                <a href=\"/g_SX.html\" target=\"_blank\">山西企业</a>\\xa0|\\n                                                                <a href=\"/g_SAX.html\" target=\"_blank\">陕西企业</a>\\xa0|\\n                                                                <a href=\"/g_SC.html\" target=\"_blank\">四川企业</a>\\xa0|\\n                                                                <a href=\"/g_TJ.html\" target=\"_blank\">天津企业</a>\\xa0|\\n                                                                <a href=\"/g_XJ.html\" target=\"_blank\">新疆企业</a>\\xa0|\\n                                                                <a href=\"/g_XZ.html\" target=\"_blank\">西藏企业</a>\\xa0|\\n                                                                <a href=\"/g_YN.html\" target=\"_blank\">云南企业</a>\\xa0|\\n                                                                <a href=\"/g_ZJ.html\" target=\"_blank\">浙江企业</a>\\xa0|\\n                                                            </div> </div> <div class=\"row footer-bottom text-center\"> <div class=\"text-muted m-t-sm\"> <span><a href=\"javascript:void(0)\" title=\"企查查\">©2014-2017</a> <a href=\"http://www.miibeian.gov.cn/\" target=\"_blank\"> 苏ICP备15042526号-4</a> 版权所有\\xa0苏州朗动网络科技有限公司</span> </div> </div> </footer> <div class=\"col-sm-12 text-center\"> <div class=\"text-muted m-t-sm\"> <span>交流QQ群：467569586  369254293  257048933  259189047  371601207  374037798</span> <a href=\"https://ss.knet.cn/verifyseal.dll?sn=e17091132050068868mhtm000000&amp;comefrom=trust\" rel=\"nofollow\"> <img class=\"m-l-sm\" style=\"width: 80px\" src=\"/material/theme/chacha/cms/v2/images/dependable.png\" /> </a> </div> </div> </div> </div> </div> </footer> <div class=\"modal fade\" id=\"feedModal\" tabindex=\"-1\" role=\"dialog\" style=\"overflow: hidden;\" aria-labelledby=\"myModalLabel\" aria-hidden=\"true\"> <div class=\"modal-dialog\"> <div class=\"modal-content\"> <div class=\"modal-header\"> <button type=\"button\" class=\"close\" data-dismiss=\"modal\"><span aria-hidden=\"true\">×</span><span class=\"sr-only\">x</span></button> <h4 class=\"modal-title\" id=\"myModalLabel\">意见反馈</h4> </div> <div class=\"modal-body\"> <form class=\"form-horizontal\" role=\"form\"> <div class=\"form-group\"> <label for=\"inputEmail3\" class=\"col-sm-2\">反馈内容</label> <div class=\"col-sm-10\"> <textarea class=\"form-control content\" rows=\"5\" name=\"content\" placeholder=\"亲爱的用户：请在这里直接填写您遇到的问题或意见建议，您的意见是我们前进的动力\"></textarea> <span class=\"contentmsg text-danger\"></span> </div> </div> <div class=\"form-group\"> <label for=\"inputPassword3\" class=\"col-sm-2\">联系方式</label> <div class=\"col-sm-10\"> <input type=\"text\" class=\"form-control email\" name=\"email\" placeholder=\"请输入邮箱，方便我们联系您。\" /> <span class=\"emailmsg text-danger\"></span> </div> </div> <div class=\"form-group m-t-lg\"> <label for=\"inputPassword3\" class=\"col-sm-2\"></label> <div class=\"col-sm-10  text-center\"> <span class=\"btn btn-primary btn-guest btn-block\">提交反馈</span> </div> </div> </form> </div> </div> </div> </div> <div style=\"display:none;\"> <script src=\"https://s4.cnzz.com/z_stat.php?id=1254842228&amp;web_id=1254842228\" language=\"JavaScript\"></script><script src=\"https://c.cnzz.com/core.php?web_id=1254842228&amp;t=z\" charset=\"utf-8\" type=\"text/javascript\"></script><a href=\"http://www.cnzz.com/stat/website.php?web_id=1254842228\" target=\"_blank\" title=\"站长统计\">站长统计</a> </div><script src=\"http://tongji.qichacha.com:8080v2/visual?url=http%3A%2F%2Fwww.qichacha.com%2Findex_verify%3Ftype%3Dcompanyview%26back%3D%2Ffirm_333b343e56d4b4bdac9345700bdca4b6.html&amp;app_key=de1d1a35bfa24ce29bbf2c7eb17e6c4f&amp;platform=3&amp;callback=callback8196147137993501\"></script> <script type=\"text/javascript\">\\n    (function(){\\n        var bp = document.createElement(\\'script\\');\\n        var curProtocol = window.location.protocol.split(\\':\\')[0];\\n        if (curProtocol === \\'https\\') {\\n            bp.src = \\'https://zz.bdstatic.com/linksubmit/push.js\\';\\n        }\\n        else {\\n            bp.src = \\'http://push.zhanzhang.baidu.com/push.js\\';\\n        }\\n        var s = document.getElementsByTagName(\"script\")[0];\\n        s.parentNode.insertBefore(bp, s);\\n    })();\\n    \\n    /*v3*/\\n    jQuery(function(){\\n    \\tjQuery(\"#V3_APP\").mouseover(function(){\\n    \\t\\t$(\"#V3_APP_Img\").show();\\n    \\t}).mouseout(function(){\\n    \\t\\t$(\"#V3_APP_Img\").hide();\\n    \\t});\\n    \\tjQuery(\"#V3_WX\").mouseover(function(){\\n    \\t\\t$(\"#V3_WX_Img\").show();\\n    \\t}).mouseout(function(){\\n    \\t\\t$(\"#V3_WX_Img\").hide();\\n    \\t});\\n    });\\n\\n    /*\\n    var kicked = \\'\\';\\n    if(kicked){\\n        toastr.options = {positionClass: \\'toast-bottom-left\\'};\\n        toastr.error(\\'您的账号在另一地点登录，您已被迫下线\\');\\n    }\\n    */\\n</script> <div id=\"RNav\" class=\"visible-lg i_hide\" style=\"display: block;\"> <div class=\"i_menu\"> <ul class=\"i_bts-outer\" style=\"bottom:69px;\"> <li class=\"i_bt_sm i_bt_wx\"> <label>微信</label><img src=\"/material/theme/chacha/cms/v2/images/leftnav/bg_wx.png\" alt=\"企查查\" /></li> <li class=\"i_bt_sm i_bt_dow\"> <label>下载</label><img src=\"/material/theme/chacha/cms/v2/images/leftnav/bg_app.png\" alt=\"企查查\" /></li> <li id=\"RNBack\" class=\"i_bt_sm i_bt_back\" data-toggle=\"modal\" data-target=\"#feedModal\"> <label>反馈</label></li> <li id=\"RNTop\" class=\"i_bt_sm i_bt_top\"> <label>置顶</label></li> </ul> </div> <div class=\"i_container\"> <div class=\"i_nodata\">暂无数据</div> <div id=\"RNFoc\" class=\"i_wrap\"> <div class=\"i_title\">我的关注</div> <div class=\"i_com-wrap\" style=\"height: 0px;\"> <div style=\"height:1px;width:240px;\"></div> </div> <div class=\"i_botbt\"> <a href=\"/user_follow\">打开全部</a> </div> </div> <div id=\"RNCom\" class=\"i_wrap\"> <div class=\"i_title\">企业对比</div> <div class=\"i_toast\">\\n\\t\\t\\t\\t还可以添加<span id=\"ComLastCount\">5</span>家企业 \\n\\t\\t\\t\\t<a id=\"ClearCompares\" class=\"c_a\">清空</a> </div> <div class=\"i_com-wrap\" style=\"height: 0px;\"> <div class=\"i_com i_addcom\" data-toggle=\"modal\" data-target=\"#qaddComPanel\"> <img src=\"/material/theme/chacha/cms/v2/images/leftnav/icon-add.png\" alt=\"企查查\" /> <a class=\"c_a\" href=\"javascript:;\">添加企业</a> </div> <div style=\"height:1px;width:240px;\"></div> </div> <div class=\"i_botbt\"> <a id=\"RNComA\" href=\"javascript:;\" target-url=\"/compare\">对比企业</a> </div> </div> <div id=\"RNRel\" class=\"i_wrap\"> <div class=\"i_title\">找关系</div> <div class=\"i_toast\">\\n\\t\\t\\t\\t还可以添加<span id=\"RelLastCount\">5</span>家企业 \\n\\t\\t\\t\\t<a class=\"c_a\" id=\"ClearRels\">清空</a> </div> <div class=\"i_com-wrap\" style=\"height: 0px;\"> <div class=\"i_com i_addcom\" data-toggle=\"modal\" data-target=\"#addRelPanel\"> <img src=\"/material/theme/chacha/cms/v2/images/leftnav/icon-add.png\" alt=\"企查查\" /> <a class=\"c_a\" href=\"javascript:;\">添加企业或个人</a> </div> <div style=\"height:1px;width:240px;\"></div> </div> <div class=\"i_botbt\"> <a href=\"javascript:;\" target-url=\"/more_analysis\" id=\"RelOpenAll\">找关系</a> </div> </div> </div> <div class=\"modal fade\" id=\"qaddComPanel\" tabindex=\"-1\" role=\"dialog\" aria-labelledby=\"myModalLabel\" aria-hidden=\"true\"> <div class=\"modal-dialog\"> <div class=\"modal-content\" style=\"width:600px;\"> <div class=\"modal-header\"> <button type=\"button\" class=\"close\" data-dismiss=\"modal\"><span aria-hidden=\"true\">×</span><span class=\"sr-only\">x</span></button> <h4 class=\"modal-title\">添加企业</h4> </div> <div class=\"modal-body\" style=\"height: 330px\"> <form class=\"form-horizontal\" role=\"form\"> <div class=\"form-group\"> <div class=\"col-sm-12 m-t-md\"> <input type=\"text\" id=\"qcomName\" name=\"comName\" class=\"form-control\" value=\"\" placeholder=\"请输入公司/人\" autocomplete=\"off\" oninput=\"qsearchCom(event,this)\" /> <section class=\"panel hidden-xs\" id=\"qsearchList\" style=\"position: absolute;width: 560px;z-index: 10;display: none;\"></section> </div> <div class=\"col-sm-12 text-center m-t-lg\" style=\"padding-left: 18px;padding-right: 18px;\"> <span id=\"qaddComPanelConfirm\" class=\"btn-primary btn-guest btn-block\" style=\"padding-top: 5px;padding-bottom: 5px;cursor:pointer;\">添加企业</span> </div> </div> </form> </div> </div> </div> </div> <div class=\"modal fade\" id=\"addRelPanel\" tabindex=\"-1\" role=\"dialog\" aria-labelledby=\"myModalLabel\" aria-hidden=\"true\"> <div class=\"modal-dialog\"> <div class=\"modal-content\" style=\"width:600px;\"> <div class=\"modal-header\"> <button type=\"button\" class=\"close\" data-dismiss=\"modal\"><span aria-hidden=\"true\">×</span><span class=\"sr-only\">x</span></button> <h4 class=\"modal-title\">添加企业或个人</h4> </div> <div class=\"modal-body\" style=\"height: 445px\"> <form class=\"form-horizontal\" role=\"form\"> <div class=\"form-group\"> <div class=\"col-sm-12 m-t-md\"> <input type=\"text\" id=\"qrcomName\" name=\"comName\" class=\"form-control\" value=\"\" placeholder=\"请输入公司名称\" autocomplete=\"off\" oninput=\"qrsearchCom(event,this)\" /> <section class=\"panel hidden-xs\" id=\"qrsearchList\" style=\"position: absolute;width: 560px;z-index: 10;display: none;\"></section> </div> </div> </form> </div> </div> </div> </div> </div> <script type=\"text/javascript\">\\n\\t /*rightNav.js 使用变量*/\\n\\t var personImg =  \"/material/theme/chacha/cms/v2/images/leftnav/person.png\";\\n\\t var frimUrl = \"\";\\n\\t var comDefaultImg = \"/material/theme/chacha/cms/v2/images/company.jpg\"\\n          \\n    function jumpTax(){\\n        window.location.href=encodeURI(INDEX_URL+\"tax\");\\n    }       \\n</script> <script src=\"/material/theme/chacha/cms/v2/js/rightNav.js?timestamp=1497542400\"></script> <style type=\"text/css\">\\n    @keyframes popleft {0%   {margin-left: -100%;} 100% {margin-left: 0px;} } \\n    @-moz-keyframes popleft {0%   {margin-left: -100%;} 100% {margin-left: 0px;} } \\n    @-webkit-keyframes popleft {0%   {margin-left: -100%;} 100% {margin-left: 0px;} } \\n\\n    @keyframes popRight {0%   {margin-left: 0px;} 100% {margin-left: -100%;} } \\n    @-moz-keyframes popRight {0%   {margin-left: 0px;} 100% {margin-left: -100%;} } \\n    @-webkit-keyframes popRight {0%   {margin-left: 0px;} 100% {margin-left: -100%;} }\\n                        \\n\\n    .bottomSuspend{ \\n        width: 100%; \\n        position: fixed;\\n        bottom: 0px;\\n        z-index: 10;\\n        background:url(/material/theme/chacha/cms/v2/images/app10.0.2.png) center bottom no-repeat;\\n        height: 185px;\\n    } \\n\\n    .bottomSuspend .attendDownload{\\n        cursor: pointer;\\n        width: 860px;\\n        position: absolute;\\n        bottom: 0px;\\n        height: 90px;\\n        left: 50%;\\n        margin-left: -520px;\\n    }\\n\\n    \\n    .acction-left{\\n        z-index:10000;\\n        margin-left: 0px !important; animation: popleft 0.5s; -moz-animation: popleft 0.5s; -webkit-animation: popleft 0.5s; \\n    } \\n    .acction-right{\\n        margin-left: -100% !important; animation: popRight 0.5s; -moz-animation: popRight 0.5s; -webkit-animation: popRight 0.5s; \\n    } \\n    \\n    .bottomSuspend .closeSuspend{\\n        position: absolute; top: 120px; right: 28px;\\n        width: 40px;\\n        height: 40px;\\n        background: url(/material/theme/chacha/cms/v2/images/app10.0.2_close.png) no-repeat center center;\\n        -webkit-transition: .5s;\\n        transition: .5s;\\n    }\\n    .bottomSuspend .closeSuspend:hover{ \\n        transform: rotate(180deg);\\n        -ms-transform: rotate(180deg);\\n        -moz-transform: rotate(180deg);\\n        -webkit-transform: rotate(180deg);\\n        -o-transform: rotate(180deg);\\n    }\\n\\n    .openSuspend{\\n        z-index: 10;\\n        position: fixed; bottom: 35px; left: 0px;\\n        width: 56px;\\n        height: 50px; \\n        background: url(/material/theme/chacha/cms/v2/fapiao/app_down.png) no-repeat center center;\\n        background-size: 56px 50px;\\n        display: none; \\n    }\\n\\n    @media print {\\n        a[href]:after {\\n            content: none !important;\\n        }\\n        .bottomSuspend {\\n            display: none;\\n        }\\n    }\\n   \\n</style> <div id=\"openSuspend\" class=\"openSuspend\" style=\"cursor:pointer;\"></div> <div class=\"bottomSuspend acction-left\" id=\"bottomSuspend\" style=\"margin-left: -100%;\"> <div id=\"attendDownload\" class=\"attendDownload\"></div> <div id=\"closeSuspend\" class=\"closeSuspend\"></div> </div> <script type=\"text/javascript\">\\n    setTimeout(function() {\\n        if(window.localStorage.getItem(\\'bottomSuspendClose\\')==\\'1\\'){\\n            $(\\'#openSuspend\\').fadeIn();\\n        }else{\\n            $(\\'#bottomSuspend\\').attr(\\'class\\',\\'bottomSuspend acction-left\\');\\n        }\\n    },1500); \\n    $(\\'#closeSuspend\\').click(function(e){\\n        e.stopPropagation();\\n        window.localStorage.setItem(\\'bottomSuspendClose\\',1);\\n        $(\\'#bottomSuspend\\').attr(\\'class\\',\\'bottomSuspend acction-right\\');\\n        setTimeout(function() {\\n            $(\\'#openSuspend\\').fadeIn();\\n        },500); \\n    });  \\n    $(\\'#openSuspend\\').click(function(){\\n        window.localStorage.setItem(\\'bottomSuspendClose\\',0);\\n        $(\\'#openSuspend\\').fadeOut();\\n        setTimeout(function() {\\n            $(\\'#bottomSuspend\\').attr(\\'class\\',\\'bottomSuspend acction-left\\');\\n        },500); \\n    });\\n    $(\\'#attendDownload\\').click(function(){\\n        location.href = \"http://www.qichacha.com/weixin_jump?from=web\";\\n    });\\n</script>  <div style=\"display: none; position: fixed; left: 0px; top: 0px; width: 100%; height: 100%; cursor: move; opacity: 0; background: rgb(255, 255, 255);\"></div></body></html>'"
      ]
     },
     "execution_count": 31,
     "metadata": {},
     "output_type": "execute_result"
    }
   ],
   "source": [
    "driver.page_source"
   ]
  },
  {
   "cell_type": "code",
   "execution_count": 33,
   "metadata": {
    "collapsed": true
   },
   "outputs": [],
   "source": [
    "dragger = driver.find_element_by_xpath('//span[@id=\"nc_1_n1z\"]')"
   ]
  },
  {
   "cell_type": "code",
   "execution_count": 34,
   "metadata": {},
   "outputs": [
    {
     "data": {
      "text/plain": [
       "'请按住滑块，拖动到最右边'"
      ]
     },
     "execution_count": 34,
     "metadata": {},
     "output_type": "execute_result"
    }
   ],
   "source": [
    "#driver.switch_to_window(driver.window_handles[1])\n",
    "driver.find_element_by_xpath('//*[@id=\"nc_1__scale_text\"]/span').text"
   ]
  },
  {
   "cell_type": "code",
   "execution_count": 35,
   "metadata": {},
   "outputs": [
    {
     "data": {
      "text/plain": [
       "{'x': 408, 'y': 303}"
      ]
     },
     "execution_count": 35,
     "metadata": {},
     "output_type": "execute_result"
    }
   ],
   "source": [
    "driver.find_element_by_xpath('//span[@id=\"nc_1_n1z\"]').location"
   ]
  },
  {
   "cell_type": "code",
   "execution_count": 39,
   "metadata": {},
   "outputs": [
    {
     "name": "stdout",
     "output_type": "stream",
     "text": [
      "{'x': 408, 'y': 303}\n"
     ]
    },
    {
     "ename": "WebDriverException",
     "evalue": "Message: chrome not reachable\n  (Session info: chrome=62.0.3202.94)\n  (Driver info: chromedriver=2.33.506120 (e3e53437346286c0bc2d2dc9aa4915ba81d9023f),platform=Windows NT 10.0.15063 x86_64)\n",
     "output_type": "error",
     "traceback": [
      "\u001b[1;31m---------------------------------------------------------------------------\u001b[0m",
      "\u001b[1;31mWebDriverException\u001b[0m                        Traceback (most recent call last)",
      "\u001b[1;32m<ipython-input-39-764c7c662852>\u001b[0m in \u001b[0;36m<module>\u001b[1;34m()\u001b[0m\n\u001b[0;32m     12\u001b[0m \u001b[0mtime\u001b[0m\u001b[1;33m.\u001b[0m\u001b[0msleep\u001b[0m\u001b[1;33m(\u001b[0m\u001b[0mrandom\u001b[0m\u001b[1;33m.\u001b[0m\u001b[0muniform\u001b[0m\u001b[1;33m(\u001b[0m\u001b[1;36m0.1\u001b[0m\u001b[1;33m,\u001b[0m\u001b[1;36m0.2\u001b[0m\u001b[1;33m)\u001b[0m\u001b[1;33m)\u001b[0m\u001b[1;33m\u001b[0m\u001b[0m\n\u001b[0;32m     13\u001b[0m \u001b[1;32mfor\u001b[0m \u001b[0mi\u001b[0m \u001b[1;32min\u001b[0m \u001b[0mrange\u001b[0m\u001b[1;33m(\u001b[0m\u001b[1;36m150\u001b[0m\u001b[1;33m)\u001b[0m\u001b[1;33m:\u001b[0m\u001b[1;33m\u001b[0m\u001b[0m\n\u001b[1;32m---> 14\u001b[1;33m     \u001b[0maction\u001b[0m\u001b[1;33m.\u001b[0m\u001b[0mmove_by_offset\u001b[0m\u001b[1;33m(\u001b[0m\u001b[1;36m2\u001b[0m\u001b[1;33m,\u001b[0m\u001b[0mrandom\u001b[0m\u001b[1;33m.\u001b[0m\u001b[0muniform\u001b[0m\u001b[1;33m(\u001b[0m\u001b[1;36m0\u001b[0m\u001b[1;33m,\u001b[0m\u001b[1;36m0.1\u001b[0m\u001b[1;33m)\u001b[0m\u001b[1;33m)\u001b[0m\u001b[1;33m.\u001b[0m\u001b[0mperform\u001b[0m\u001b[1;33m(\u001b[0m\u001b[1;33m)\u001b[0m\u001b[1;33m\u001b[0m\u001b[0m\n\u001b[0m\u001b[0;32m     15\u001b[0m     \u001b[0mtime\u001b[0m\u001b[1;33m.\u001b[0m\u001b[0msleep\u001b[0m\u001b[1;33m(\u001b[0m\u001b[0mrandom\u001b[0m\u001b[1;33m.\u001b[0m\u001b[0muniform\u001b[0m\u001b[1;33m(\u001b[0m\u001b[1;36m0\u001b[0m\u001b[1;33m,\u001b[0m\u001b[1;36m1\u001b[0m\u001b[1;33m)\u001b[0m\u001b[1;33m/\u001b[0m\u001b[1;36m100\u001b[0m\u001b[1;33m)\u001b[0m\u001b[1;33m\u001b[0m\u001b[0m\n\u001b[0;32m     16\u001b[0m \u001b[0maction\u001b[0m\u001b[1;33m.\u001b[0m\u001b[0mrelease\u001b[0m\u001b[1;33m(\u001b[0m\u001b[1;33m)\u001b[0m\u001b[1;33m.\u001b[0m\u001b[0mperform\u001b[0m\u001b[1;33m\u001b[0m\u001b[0m\n",
      "\u001b[1;32mE:\\Applications\\Anaconda3\\lib\\site-packages\\selenium\\webdriver\\common\\action_chains.py\u001b[0m in \u001b[0;36mperform\u001b[1;34m(self)\u001b[0m\n\u001b[0;32m     81\u001b[0m         \u001b[1;32melse\u001b[0m\u001b[1;33m:\u001b[0m\u001b[1;33m\u001b[0m\u001b[0m\n\u001b[0;32m     82\u001b[0m             \u001b[1;32mfor\u001b[0m \u001b[0maction\u001b[0m \u001b[1;32min\u001b[0m \u001b[0mself\u001b[0m\u001b[1;33m.\u001b[0m\u001b[0m_actions\u001b[0m\u001b[1;33m:\u001b[0m\u001b[1;33m\u001b[0m\u001b[0m\n\u001b[1;32m---> 83\u001b[1;33m                 \u001b[0maction\u001b[0m\u001b[1;33m(\u001b[0m\u001b[1;33m)\u001b[0m\u001b[1;33m\u001b[0m\u001b[0m\n\u001b[0m\u001b[0;32m     84\u001b[0m \u001b[1;33m\u001b[0m\u001b[0m\n\u001b[0;32m     85\u001b[0m     \u001b[1;32mdef\u001b[0m \u001b[0mreset_actions\u001b[0m\u001b[1;33m(\u001b[0m\u001b[0mself\u001b[0m\u001b[1;33m)\u001b[0m\u001b[1;33m:\u001b[0m\u001b[1;33m\u001b[0m\u001b[0m\n",
      "\u001b[1;32mE:\\Applications\\Anaconda3\\lib\\site-packages\\selenium\\webdriver\\common\\action_chains.py\u001b[0m in \u001b[0;36m<lambda>\u001b[1;34m()\u001b[0m\n\u001b[0;32m    276\u001b[0m                 Command.MOVE_TO, {\n\u001b[0;32m    277\u001b[0m                     \u001b[1;34m'xoffset'\u001b[0m\u001b[1;33m:\u001b[0m \u001b[0mint\u001b[0m\u001b[1;33m(\u001b[0m\u001b[0mxoffset\u001b[0m\u001b[1;33m)\u001b[0m\u001b[1;33m,\u001b[0m\u001b[1;33m\u001b[0m\u001b[0m\n\u001b[1;32m--> 278\u001b[1;33m                     'yoffset': int(yoffset)}))\n\u001b[0m\u001b[0;32m    279\u001b[0m         \u001b[1;32mreturn\u001b[0m \u001b[0mself\u001b[0m\u001b[1;33m\u001b[0m\u001b[0m\n\u001b[0;32m    280\u001b[0m \u001b[1;33m\u001b[0m\u001b[0m\n",
      "\u001b[1;32mE:\\Applications\\Anaconda3\\lib\\site-packages\\selenium\\webdriver\\remote\\webdriver.py\u001b[0m in \u001b[0;36mexecute\u001b[1;34m(self, driver_command, params)\u001b[0m\n\u001b[0;32m    306\u001b[0m         \u001b[0mresponse\u001b[0m \u001b[1;33m=\u001b[0m \u001b[0mself\u001b[0m\u001b[1;33m.\u001b[0m\u001b[0mcommand_executor\u001b[0m\u001b[1;33m.\u001b[0m\u001b[0mexecute\u001b[0m\u001b[1;33m(\u001b[0m\u001b[0mdriver_command\u001b[0m\u001b[1;33m,\u001b[0m \u001b[0mparams\u001b[0m\u001b[1;33m)\u001b[0m\u001b[1;33m\u001b[0m\u001b[0m\n\u001b[0;32m    307\u001b[0m         \u001b[1;32mif\u001b[0m \u001b[0mresponse\u001b[0m\u001b[1;33m:\u001b[0m\u001b[1;33m\u001b[0m\u001b[0m\n\u001b[1;32m--> 308\u001b[1;33m             \u001b[0mself\u001b[0m\u001b[1;33m.\u001b[0m\u001b[0merror_handler\u001b[0m\u001b[1;33m.\u001b[0m\u001b[0mcheck_response\u001b[0m\u001b[1;33m(\u001b[0m\u001b[0mresponse\u001b[0m\u001b[1;33m)\u001b[0m\u001b[1;33m\u001b[0m\u001b[0m\n\u001b[0m\u001b[0;32m    309\u001b[0m             response['value'] = self._unwrap_value(\n\u001b[0;32m    310\u001b[0m                 response.get('value', None))\n",
      "\u001b[1;32mE:\\Applications\\Anaconda3\\lib\\site-packages\\selenium\\webdriver\\remote\\errorhandler.py\u001b[0m in \u001b[0;36mcheck_response\u001b[1;34m(self, response)\u001b[0m\n\u001b[0;32m    192\u001b[0m         \u001b[1;32melif\u001b[0m \u001b[0mexception_class\u001b[0m \u001b[1;33m==\u001b[0m \u001b[0mUnexpectedAlertPresentException\u001b[0m \u001b[1;32mand\u001b[0m \u001b[1;34m'alert'\u001b[0m \u001b[1;32min\u001b[0m \u001b[0mvalue\u001b[0m\u001b[1;33m:\u001b[0m\u001b[1;33m\u001b[0m\u001b[0m\n\u001b[0;32m    193\u001b[0m             \u001b[1;32mraise\u001b[0m \u001b[0mexception_class\u001b[0m\u001b[1;33m(\u001b[0m\u001b[0mmessage\u001b[0m\u001b[1;33m,\u001b[0m \u001b[0mscreen\u001b[0m\u001b[1;33m,\u001b[0m \u001b[0mstacktrace\u001b[0m\u001b[1;33m,\u001b[0m \u001b[0mvalue\u001b[0m\u001b[1;33m[\u001b[0m\u001b[1;34m'alert'\u001b[0m\u001b[1;33m]\u001b[0m\u001b[1;33m.\u001b[0m\u001b[0mget\u001b[0m\u001b[1;33m(\u001b[0m\u001b[1;34m'text'\u001b[0m\u001b[1;33m)\u001b[0m\u001b[1;33m)\u001b[0m\u001b[1;33m\u001b[0m\u001b[0m\n\u001b[1;32m--> 194\u001b[1;33m         \u001b[1;32mraise\u001b[0m \u001b[0mexception_class\u001b[0m\u001b[1;33m(\u001b[0m\u001b[0mmessage\u001b[0m\u001b[1;33m,\u001b[0m \u001b[0mscreen\u001b[0m\u001b[1;33m,\u001b[0m \u001b[0mstacktrace\u001b[0m\u001b[1;33m)\u001b[0m\u001b[1;33m\u001b[0m\u001b[0m\n\u001b[0m\u001b[0;32m    195\u001b[0m \u001b[1;33m\u001b[0m\u001b[0m\n\u001b[0;32m    196\u001b[0m     \u001b[1;32mdef\u001b[0m \u001b[0m_value_or_default\u001b[0m\u001b[1;33m(\u001b[0m\u001b[0mself\u001b[0m\u001b[1;33m,\u001b[0m \u001b[0mobj\u001b[0m\u001b[1;33m,\u001b[0m \u001b[0mkey\u001b[0m\u001b[1;33m,\u001b[0m \u001b[0mdefault\u001b[0m\u001b[1;33m)\u001b[0m\u001b[1;33m:\u001b[0m\u001b[1;33m\u001b[0m\u001b[0m\n",
      "\u001b[1;31mWebDriverException\u001b[0m: Message: chrome not reachable\n  (Session info: chrome=62.0.3202.94)\n  (Driver info: chromedriver=2.33.506120 (e3e53437346286c0bc2d2dc9aa4915ba81d9023f),platform=Windows NT 10.0.15063 x86_64)\n"
     ]
    }
   ],
   "source": [
    "import time\n",
    "import random\n",
    "from selenium.webdriver.common.action_chains import ActionChains\n",
    "from selenium.common.exceptions import UnexpectedAlertPresentException\n",
    "clicker=driver.find_element_by_xpath('//button[@id=\"verify\"]')\n",
    "action = ActionChains(driver)\n",
    "#time.sleep(2)\n",
    "print(dragger.location)\n",
    "action.move_to_element(dragger).perform()\n",
    "time.sleep(random.uniform(0,1))\n",
    "action.click_and_hold().perform()\n",
    "time.sleep(random.uniform(0.1,0.2))\n",
    "for i in range(150):\n",
    "    action.move_by_offset(2,random.uniform(0,0.1)).perform()\n",
    "    time.sleep(random.uniform(0,1)/100)\n",
    "action.release().perform\n"
   ]
  },
  {
   "cell_type": "code",
   "execution_count": 33,
   "metadata": {
    "collapsed": true
   },
   "outputs": [],
   "source": [
    "import time\n",
    "from selenium.webdriver.common.action_chains import ActionChains\n",
    "from selenium.common.exceptions import UnexpectedAlertPresentException\n",
    "dragger = driver.find_element_by_xpath('//span[@id=\"nc_1_n1z\"]')\n",
    "action = ActionChains(driver)\n",
    "action.drag_and_drop_by_offset(dragger,300,0).perform()  #鼠标左键按下不放"
   ]
  },
  {
   "cell_type": "code",
   "execution_count": 35,
   "metadata": {
    "collapsed": true
   },
   "outputs": [],
   "source": [
    "clicker=driver.find_element_by_xpath('//button[@id=\"verify\"]')\n",
    "clicker.click()"
   ]
  },
  {
   "cell_type": "code",
   "execution_count": 99,
   "metadata": {},
   "outputs": [
    {
     "name": "stdout",
     "output_type": "stream",
     "text": [
      "None\n",
      "\n"
     ]
    }
   ],
   "source": [
    "import time\n",
    "from selenium.webdriver.common.action_chains import ActionChains\n",
    "from selenium.common.exceptions import UnexpectedAlertPresentException\n",
    "\n",
    "dragger = driver.find_element_by_xpath('//span[@id=\"nc_1_n1z\"]')\n",
    "clicker=driver.find_element_by_xpath('//button[@id=\"verify\"]')\n",
    "\n",
    "action = ActionChains(driver)\n",
    "\n",
    "action.drag_and_drop_by_offset(dragger,300,0).perform()  #鼠标左键按下不放\n",
    "#action.move_by_offset(533,304).click_and_hold().move_by_offset(300,2).release().perform()\n",
    "\n",
    "#print(dragger.get_attribute('value'))\n",
    "\n",
    "#ActionChains(driver).release(dragger).perform()\n",
    "print(dragger.get_attribute('value'))\n",
    "time.sleep(1)\n",
    "action.click(clicker).perform()\n",
    "print(clicker.get_attribute('value'))"
   ]
  },
  {
   "cell_type": "code",
   "execution_count": 62,
   "metadata": {},
   "outputs": [
    {
     "data": {
      "text/plain": [
       "{'x': 826, 'y': 200}"
      ]
     },
     "execution_count": 62,
     "metadata": {},
     "output_type": "execute_result"
    }
   ],
   "source": [
    "driver.find_element_by_xpath('//*[@id=\"user_login_normal\"]/div[1]/input').location"
   ]
  },
  {
   "cell_type": "code",
   "execution_count": 64,
   "metadata": {},
   "outputs": [
    {
     "data": {
      "text/plain": [
       "{'x': 0, 'y': 0}"
      ]
     },
     "execution_count": 64,
     "metadata": {},
     "output_type": "execute_result"
    }
   ],
   "source": [
    "driver.find_element_by_xpath('/html/body/div[3]/div/div/div[3]/div[1]/div[2]').location"
   ]
  },
  {
   "cell_type": "code",
   "execution_count": 56,
   "metadata": {
    "collapsed": true
   },
   "outputs": [],
   "source": [
    "import time\n",
    "from selenium.webdriver.common.action_chains import ActionChains\n",
    "from selenium.common.exceptions import UnexpectedAlertPresentException\n",
    "action = ActionChains(driver)\n",
    "clicker1=driver.find_element_by_xpath('//*[@id=\"normalLogin\"]')\n",
    "action.click(clicker1).perform()\n",
    "#clicker1.click()"
   ]
  },
  {
   "cell_type": "code",
   "execution_count": 28,
   "metadata": {},
   "outputs": [
    {
     "name": "stdout",
     "output_type": "stream",
     "text": [
      "13672176303\n",
      "sao6039506\n"
     ]
    }
   ],
   "source": [
    "username='13672176303'\n",
    "password='sao6039506'\n",
    "un=driver.find_element_by_xpath('//*[@id=\"user_login_normal\"]/div[1]/input')\n",
    "un.clear()\n",
    "un.send_keys(username)\n",
    "\n",
    "#action.send_keys_to_element(un,username).perform()\n",
    "print(un.get_attribute('value'))\n",
    "up=driver.find_element_by_xpath('//*[@id=\"user_login_normal\"]/div[2]/input')\n",
    "up.clear()\n",
    "up.send_keys(password)\n",
    "#action.send_keys_to_element(up,password).perform()\n",
    "print(up.get_attribute('value'))"
   ]
  },
  {
   "cell_type": "code",
   "execution_count": 29,
   "metadata": {},
   "outputs": [
    {
     "name": "stdout",
     "output_type": "stream",
     "text": [
      "None\n"
     ]
    }
   ],
   "source": [
    "dragger=driver.find_element_by_xpath('//*[@id=\"nc_2_n1z\"]')\n",
    "print(dragger.get_attribute('value'))"
   ]
  },
  {
   "cell_type": "code",
   "execution_count": 31,
   "metadata": {
    "collapsed": true
   },
   "outputs": [],
   "source": [
    "action.drag_and_drop_by_offset(dragger,300,0).perform()"
   ]
  },
  {
   "cell_type": "code",
   "execution_count": 37,
   "metadata": {},
   "outputs": [
    {
     "name": "stdout",
     "output_type": "stream",
     "text": [
      "on\n"
     ]
    }
   ],
   "source": [
    "check=driver.find_element_by_xpath('//*[@id=\"user_login_normal\"]/div[4]/input')\n",
    "check.click()\n",
    "#action.click(check).perform()\n",
    "print(check.get_attribute('value'))"
   ]
  },
  {
   "cell_type": "code",
   "execution_count": 38,
   "metadata": {},
   "outputs": [
    {
     "data": {
      "text/plain": [
       "True"
      ]
     },
     "execution_count": 38,
     "metadata": {},
     "output_type": "execute_result"
    }
   ],
   "source": [
    "check.is_selected()"
   ]
  },
  {
   "cell_type": "code",
   "execution_count": 39,
   "metadata": {
    "collapsed": true
   },
   "outputs": [],
   "source": [
    "clicker2=driver.find_element_by_xpath('//*[@id=\"user_login_normal\"]/div[5]/button')\n",
    "clicker2.click()\n",
    "print(check.get_attribute('value'))"
   ]
  },
  {
   "cell_type": "code",
   "execution_count": 1,
   "metadata": {
    "collapsed": true
   },
   "outputs": [],
   "source": [
    "import urllib.request"
   ]
  },
  {
   "cell_type": "code",
   "execution_count": 2,
   "metadata": {},
   "outputs": [
    {
     "ename": "HTTPError",
     "evalue": "HTTP Error 405: Not Allowed",
     "output_type": "error",
     "traceback": [
      "\u001b[1;31m---------------------------------------------------------------------------\u001b[0m",
      "\u001b[1;31mHTTPError\u001b[0m                                 Traceback (most recent call last)",
      "\u001b[1;32m<ipython-input-2-2e83bb102566>\u001b[0m in \u001b[0;36m<module>\u001b[1;34m()\u001b[0m\n\u001b[1;32m----> 1\u001b[1;33m \u001b[0mr\u001b[0m\u001b[1;33m=\u001b[0m\u001b[0murllib\u001b[0m\u001b[1;33m.\u001b[0m\u001b[0mrequest\u001b[0m\u001b[1;33m.\u001b[0m\u001b[0murlopen\u001b[0m\u001b[1;33m(\u001b[0m\u001b[1;34m'http://www.qichacha.com/firm_333b343e56d4b4bdac9345700bdca4b6.html'\u001b[0m\u001b[1;33m,\u001b[0m\u001b[0mtimeout\u001b[0m\u001b[1;33m=\u001b[0m\u001b[1;36m5\u001b[0m\u001b[1;33m)\u001b[0m\u001b[1;33m\u001b[0m\u001b[0m\n\u001b[0m",
      "\u001b[1;32mE:\\Applications\\Anaconda3\\lib\\urllib\\request.py\u001b[0m in \u001b[0;36murlopen\u001b[1;34m(url, data, timeout, cafile, capath, cadefault, context)\u001b[0m\n\u001b[0;32m    161\u001b[0m     \u001b[1;32melse\u001b[0m\u001b[1;33m:\u001b[0m\u001b[1;33m\u001b[0m\u001b[0m\n\u001b[0;32m    162\u001b[0m         \u001b[0mopener\u001b[0m \u001b[1;33m=\u001b[0m \u001b[0m_opener\u001b[0m\u001b[1;33m\u001b[0m\u001b[0m\n\u001b[1;32m--> 163\u001b[1;33m     \u001b[1;32mreturn\u001b[0m \u001b[0mopener\u001b[0m\u001b[1;33m.\u001b[0m\u001b[0mopen\u001b[0m\u001b[1;33m(\u001b[0m\u001b[0murl\u001b[0m\u001b[1;33m,\u001b[0m \u001b[0mdata\u001b[0m\u001b[1;33m,\u001b[0m \u001b[0mtimeout\u001b[0m\u001b[1;33m)\u001b[0m\u001b[1;33m\u001b[0m\u001b[0m\n\u001b[0m\u001b[0;32m    164\u001b[0m \u001b[1;33m\u001b[0m\u001b[0m\n\u001b[0;32m    165\u001b[0m \u001b[1;32mdef\u001b[0m \u001b[0minstall_opener\u001b[0m\u001b[1;33m(\u001b[0m\u001b[0mopener\u001b[0m\u001b[1;33m)\u001b[0m\u001b[1;33m:\u001b[0m\u001b[1;33m\u001b[0m\u001b[0m\n",
      "\u001b[1;32mE:\\Applications\\Anaconda3\\lib\\urllib\\request.py\u001b[0m in \u001b[0;36mopen\u001b[1;34m(self, fullurl, data, timeout)\u001b[0m\n\u001b[0;32m    470\u001b[0m         \u001b[1;32mfor\u001b[0m \u001b[0mprocessor\u001b[0m \u001b[1;32min\u001b[0m \u001b[0mself\u001b[0m\u001b[1;33m.\u001b[0m\u001b[0mprocess_response\u001b[0m\u001b[1;33m.\u001b[0m\u001b[0mget\u001b[0m\u001b[1;33m(\u001b[0m\u001b[0mprotocol\u001b[0m\u001b[1;33m,\u001b[0m \u001b[1;33m[\u001b[0m\u001b[1;33m]\u001b[0m\u001b[1;33m)\u001b[0m\u001b[1;33m:\u001b[0m\u001b[1;33m\u001b[0m\u001b[0m\n\u001b[0;32m    471\u001b[0m             \u001b[0mmeth\u001b[0m \u001b[1;33m=\u001b[0m \u001b[0mgetattr\u001b[0m\u001b[1;33m(\u001b[0m\u001b[0mprocessor\u001b[0m\u001b[1;33m,\u001b[0m \u001b[0mmeth_name\u001b[0m\u001b[1;33m)\u001b[0m\u001b[1;33m\u001b[0m\u001b[0m\n\u001b[1;32m--> 472\u001b[1;33m             \u001b[0mresponse\u001b[0m \u001b[1;33m=\u001b[0m \u001b[0mmeth\u001b[0m\u001b[1;33m(\u001b[0m\u001b[0mreq\u001b[0m\u001b[1;33m,\u001b[0m \u001b[0mresponse\u001b[0m\u001b[1;33m)\u001b[0m\u001b[1;33m\u001b[0m\u001b[0m\n\u001b[0m\u001b[0;32m    473\u001b[0m \u001b[1;33m\u001b[0m\u001b[0m\n\u001b[0;32m    474\u001b[0m         \u001b[1;32mreturn\u001b[0m \u001b[0mresponse\u001b[0m\u001b[1;33m\u001b[0m\u001b[0m\n",
      "\u001b[1;32mE:\\Applications\\Anaconda3\\lib\\urllib\\request.py\u001b[0m in \u001b[0;36mhttp_response\u001b[1;34m(self, request, response)\u001b[0m\n\u001b[0;32m    580\u001b[0m         \u001b[1;32mif\u001b[0m \u001b[1;32mnot\u001b[0m \u001b[1;33m(\u001b[0m\u001b[1;36m200\u001b[0m \u001b[1;33m<=\u001b[0m \u001b[0mcode\u001b[0m \u001b[1;33m<\u001b[0m \u001b[1;36m300\u001b[0m\u001b[1;33m)\u001b[0m\u001b[1;33m:\u001b[0m\u001b[1;33m\u001b[0m\u001b[0m\n\u001b[0;32m    581\u001b[0m             response = self.parent.error(\n\u001b[1;32m--> 582\u001b[1;33m                 'http', request, response, code, msg, hdrs)\n\u001b[0m\u001b[0;32m    583\u001b[0m \u001b[1;33m\u001b[0m\u001b[0m\n\u001b[0;32m    584\u001b[0m         \u001b[1;32mreturn\u001b[0m \u001b[0mresponse\u001b[0m\u001b[1;33m\u001b[0m\u001b[0m\n",
      "\u001b[1;32mE:\\Applications\\Anaconda3\\lib\\urllib\\request.py\u001b[0m in \u001b[0;36merror\u001b[1;34m(self, proto, *args)\u001b[0m\n\u001b[0;32m    508\u001b[0m         \u001b[1;32mif\u001b[0m \u001b[0mhttp_err\u001b[0m\u001b[1;33m:\u001b[0m\u001b[1;33m\u001b[0m\u001b[0m\n\u001b[0;32m    509\u001b[0m             \u001b[0margs\u001b[0m \u001b[1;33m=\u001b[0m \u001b[1;33m(\u001b[0m\u001b[0mdict\u001b[0m\u001b[1;33m,\u001b[0m \u001b[1;34m'default'\u001b[0m\u001b[1;33m,\u001b[0m \u001b[1;34m'http_error_default'\u001b[0m\u001b[1;33m)\u001b[0m \u001b[1;33m+\u001b[0m \u001b[0morig_args\u001b[0m\u001b[1;33m\u001b[0m\u001b[0m\n\u001b[1;32m--> 510\u001b[1;33m             \u001b[1;32mreturn\u001b[0m \u001b[0mself\u001b[0m\u001b[1;33m.\u001b[0m\u001b[0m_call_chain\u001b[0m\u001b[1;33m(\u001b[0m\u001b[1;33m*\u001b[0m\u001b[0margs\u001b[0m\u001b[1;33m)\u001b[0m\u001b[1;33m\u001b[0m\u001b[0m\n\u001b[0m\u001b[0;32m    511\u001b[0m \u001b[1;33m\u001b[0m\u001b[0m\n\u001b[0;32m    512\u001b[0m \u001b[1;31m# XXX probably also want an abstract factory that knows when it makes\u001b[0m\u001b[1;33m\u001b[0m\u001b[1;33m\u001b[0m\u001b[0m\n",
      "\u001b[1;32mE:\\Applications\\Anaconda3\\lib\\urllib\\request.py\u001b[0m in \u001b[0;36m_call_chain\u001b[1;34m(self, chain, kind, meth_name, *args)\u001b[0m\n\u001b[0;32m    442\u001b[0m         \u001b[1;32mfor\u001b[0m \u001b[0mhandler\u001b[0m \u001b[1;32min\u001b[0m \u001b[0mhandlers\u001b[0m\u001b[1;33m:\u001b[0m\u001b[1;33m\u001b[0m\u001b[0m\n\u001b[0;32m    443\u001b[0m             \u001b[0mfunc\u001b[0m \u001b[1;33m=\u001b[0m \u001b[0mgetattr\u001b[0m\u001b[1;33m(\u001b[0m\u001b[0mhandler\u001b[0m\u001b[1;33m,\u001b[0m \u001b[0mmeth_name\u001b[0m\u001b[1;33m)\u001b[0m\u001b[1;33m\u001b[0m\u001b[0m\n\u001b[1;32m--> 444\u001b[1;33m             \u001b[0mresult\u001b[0m \u001b[1;33m=\u001b[0m \u001b[0mfunc\u001b[0m\u001b[1;33m(\u001b[0m\u001b[1;33m*\u001b[0m\u001b[0margs\u001b[0m\u001b[1;33m)\u001b[0m\u001b[1;33m\u001b[0m\u001b[0m\n\u001b[0m\u001b[0;32m    445\u001b[0m             \u001b[1;32mif\u001b[0m \u001b[0mresult\u001b[0m \u001b[1;32mis\u001b[0m \u001b[1;32mnot\u001b[0m \u001b[1;32mNone\u001b[0m\u001b[1;33m:\u001b[0m\u001b[1;33m\u001b[0m\u001b[0m\n\u001b[0;32m    446\u001b[0m                 \u001b[1;32mreturn\u001b[0m \u001b[0mresult\u001b[0m\u001b[1;33m\u001b[0m\u001b[0m\n",
      "\u001b[1;32mE:\\Applications\\Anaconda3\\lib\\urllib\\request.py\u001b[0m in \u001b[0;36mhttp_error_default\u001b[1;34m(self, req, fp, code, msg, hdrs)\u001b[0m\n\u001b[0;32m    588\u001b[0m \u001b[1;32mclass\u001b[0m \u001b[0mHTTPDefaultErrorHandler\u001b[0m\u001b[1;33m(\u001b[0m\u001b[0mBaseHandler\u001b[0m\u001b[1;33m)\u001b[0m\u001b[1;33m:\u001b[0m\u001b[1;33m\u001b[0m\u001b[0m\n\u001b[0;32m    589\u001b[0m     \u001b[1;32mdef\u001b[0m \u001b[0mhttp_error_default\u001b[0m\u001b[1;33m(\u001b[0m\u001b[0mself\u001b[0m\u001b[1;33m,\u001b[0m \u001b[0mreq\u001b[0m\u001b[1;33m,\u001b[0m \u001b[0mfp\u001b[0m\u001b[1;33m,\u001b[0m \u001b[0mcode\u001b[0m\u001b[1;33m,\u001b[0m \u001b[0mmsg\u001b[0m\u001b[1;33m,\u001b[0m \u001b[0mhdrs\u001b[0m\u001b[1;33m)\u001b[0m\u001b[1;33m:\u001b[0m\u001b[1;33m\u001b[0m\u001b[0m\n\u001b[1;32m--> 590\u001b[1;33m         \u001b[1;32mraise\u001b[0m \u001b[0mHTTPError\u001b[0m\u001b[1;33m(\u001b[0m\u001b[0mreq\u001b[0m\u001b[1;33m.\u001b[0m\u001b[0mfull_url\u001b[0m\u001b[1;33m,\u001b[0m \u001b[0mcode\u001b[0m\u001b[1;33m,\u001b[0m \u001b[0mmsg\u001b[0m\u001b[1;33m,\u001b[0m \u001b[0mhdrs\u001b[0m\u001b[1;33m,\u001b[0m \u001b[0mfp\u001b[0m\u001b[1;33m)\u001b[0m\u001b[1;33m\u001b[0m\u001b[0m\n\u001b[0m\u001b[0;32m    591\u001b[0m \u001b[1;33m\u001b[0m\u001b[0m\n\u001b[0;32m    592\u001b[0m \u001b[1;32mclass\u001b[0m \u001b[0mHTTPRedirectHandler\u001b[0m\u001b[1;33m(\u001b[0m\u001b[0mBaseHandler\u001b[0m\u001b[1;33m)\u001b[0m\u001b[1;33m:\u001b[0m\u001b[1;33m\u001b[0m\u001b[0m\n",
      "\u001b[1;31mHTTPError\u001b[0m: HTTP Error 405: Not Allowed"
     ]
    }
   ],
   "source": [
    "r=urllib.request.urlopen('http://www.qichacha.com/firm_333b343e56d4b4bdac9345700bdca4b6.html',timeout=5)"
   ]
  },
  {
   "cell_type": "code",
   "execution_count": null,
   "metadata": {
    "collapsed": true
   },
   "outputs": [],
   "source": [
    "r.read()"
   ]
  },
  {
   "cell_type": "code",
   "execution_count": null,
   "metadata": {
    "collapsed": true
   },
   "outputs": [],
   "source": []
  }
 ],
 "metadata": {
  "kernelspec": {
   "display_name": "Python 3",
   "language": "python",
   "name": "python3"
  },
  "language_info": {
   "codemirror_mode": {
    "name": "ipython",
    "version": 3
   },
   "file_extension": ".py",
   "mimetype": "text/x-python",
   "name": "python",
   "nbconvert_exporter": "python",
   "pygments_lexer": "ipython3",
   "version": "3.5.2"
  }
 },
 "nbformat": 4,
 "nbformat_minor": 2
}

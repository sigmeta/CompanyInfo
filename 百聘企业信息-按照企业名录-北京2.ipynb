{
 "cells": [
  {
   "cell_type": "code",
   "execution_count": null,
   "metadata": {
    "collapsed": true
   },
   "outputs": [],
   "source": [
    "import requests  \n",
    "import os\n",
    "import re\n",
    "import time\n",
    "import json\n",
    "import random\n",
    "from bs4 import BeautifulSoup\n",
    "import numpy as np\n",
    "import pandas as pd\n",
    "from pandas import DataFrame"
   ]
  },
  {
   "cell_type": "code",
   "execution_count": null,
   "metadata": {},
   "outputs": [],
   "source": [
    "dfc=pd.read_csv('minglu/minglu2008abeijing.csv')\n",
    "df=pd.read_csv('qy.csv')\n",
    "df2=pd.concat((df,dfc),axis=0)\n",
    "dfc=df2.drop_duplicates(['company'])[len(df):].reset_index(drop=True)\n",
    "len(dfc)"
   ]
  },
  {
   "cell_type": "code",
   "execution_count": null,
   "metadata": {
    "collapsed": true
   },
   "outputs": [],
   "source": [
    "ippool=[\n",
    "\n",
    " '180.118.241.139:61234', '122.225.17.123:8080',\n",
    "    '61.155.164.107:3128',\n",
    " '61.155.164.110:3128',\n",
    " '110.172.220.194:8080'\n",
    "       ]"
   ]
  },
  {
   "cell_type": "code",
   "execution_count": null,
   "metadata": {
    "collapsed": true
   },
   "outputs": [],
   "source": [
    "def gettext(key,ip):\n",
    "    #headers={'User-Agent':random.choice(agentpool)}\n",
    "    headers={'User-Agent':'Mozilla/5.0 (Windows NT 10.0; Win64; x64) AppleWebKit/537.36 (KHTML, like Gecko) Chrome/61.0.3163.91 Safari/537.36'}\n",
    "    url=\"http://zhaopin.baidu.com/company?query=\"+key\n",
    "    #ip=random.choice(ippool)\n",
    "    proxies={'http':'http://'+ip}\n",
    "    print(proxies)\n",
    "    try:\n",
    "        result = requests.get(url, headers= headers,timeout=10) #在请求中设定头proxies=proxies,\n",
    "        \n",
    "    except:\n",
    "        print('无法获取网页')\n",
    "        return 2\n",
    "    \n",
    "    soup=BeautifulSoup(result.text,'lxml')\n",
    "    \n",
    "    if soup.title.text[:2]=='\\n_' or not soup.find('span',class_=\"title line-clamp1\"):\n",
    "        return 3\n",
    "    \n",
    "    if soup.find('span',class_=\"title line-clamp1\").text!=key:\n",
    "        print('查询到的公司和关键词不符','key:',key,'result:',soup.find('span',class_=\"title line-clamp1\").text)\n",
    "        s1=soup.find('div',class_='top mb16')\n",
    "        s2=soup.find('div',class_='left width-left')\n",
    "        with open('E:/Py/com/2008a/beijing/'+soup.find('span',class_=\"title line-clamp1\").text+'.txt','w',encoding='utf8') as f:\n",
    "            f.write(str(s1)+str(s2))\n",
    "        return 4\n",
    "    \n",
    "    else:\n",
    "        s1=soup.find('div',class_='top mb16')\n",
    "        s2=soup.find('div',class_='left width-left')\n",
    "        with open('E:/Py/com/2008a/beijing/'+key+'.txt','w',encoding='utf8') as f:\n",
    "            f.write(str(s1)+str(s2))\n",
    "        return 1"
   ]
  },
  {
   "cell_type": "code",
   "execution_count": null,
   "metadata": {},
   "outputs": [],
   "source": [
    "m=0\n",
    "wtimes=0\n",
    "i=139001\n",
    "ip=ippool[m]\n",
    "while i<150000:\n",
    "    keyword=dfc.loc[i,'company']\n",
    "    \n",
    "    status=gettext(keyword.strip(),ip)\n",
    "    print(i,status)\n",
    "        \n",
    "    if status==2:\n",
    "        i-=1\n",
    "        wtimes+=1\n",
    "        if wtimes>4:\n",
    "            m+=1\n",
    "            ip=ippool[m]\n",
    "            if m==len(ippool):\n",
    "                print('ip用完')\n",
    "                break\n",
    "            wtimes=0\n",
    "    else:\n",
    "        wtimes=0\n",
    "    i+=1"
   ]
  },
  {
   "cell_type": "code",
   "execution_count": null,
   "metadata": {
    "collapsed": true
   },
   "outputs": [],
   "source": []
  }
 ],
 "metadata": {
  "kernelspec": {
   "display_name": "Python 3",
   "language": "python",
   "name": "python3"
  },
  "language_info": {
   "codemirror_mode": {
    "name": "ipython",
    "version": 3
   },
   "file_extension": ".py",
   "mimetype": "text/x-python",
   "name": "python",
   "nbconvert_exporter": "python",
   "pygments_lexer": "ipython3",
   "version": "3.5.2"
  }
 },
 "nbformat": 4,
 "nbformat_minor": 2
}

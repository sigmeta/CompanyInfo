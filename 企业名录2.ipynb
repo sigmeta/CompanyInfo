{
 "cells": [
  {
   "cell_type": "code",
   "execution_count": 12,
   "metadata": {
    "collapsed": true
   },
   "outputs": [],
   "source": [
    "import requests  \n",
    "import os\n",
    "import re\n",
    "import time\n",
    "import json\n",
    "import random\n",
    "from bs4 import BeautifulSoup\n",
    "import numpy as np\n",
    "import pandas as pd\n",
    "from pandas import DataFrame\n",
    "\n",
    "agentpool=[\n",
    "    \"Mozilla/5.0 (Windows; U; Windows NT 5.1; en-US) AppleWebKit/523.15 (KHTML, like Gecko, Safari/419.3)  Arora/0.3 (Change: 287 c9dfb30)\",\n",
    "    \"Mozilla/5.0 (X11; U; Linux; en-US) AppleWebKit/523.15 (KHTML, like Gecko, Safari/419.3)  Arora/0.2 (Change: 0 )\",\n",
    "    \"Mozilla/4.0 (compatible; MSIE 6.0; Windows NT 5.1; .NET CLR 1.1.4322; FDM)\",\n",
    "    \"Mozilla/4.0 (compatible; MSIE 6.0; Windows NT 5.0; Avant Browser [avantbrowser.com]; Hotbar 4.4.5.0)\",\n",
    "    \"Amiga-AWeb/3.5.07 beta\",\n",
    "    \"Mozilla/6.0; (Spoofed by Amiga-AWeb/3.5.07 beta)\",\n",
    "    \"Mozilla/5.0 (Macintosh; U; PPC Mac OS X 10.4; en; rv:1.9.0.19) Gecko/2011091218 Camino/2.0.9 (like Firefox/3.0.19)\",\n",
    "    \"Mozilla/5.0 (Macintosh; U; Intel Mac OS X 10.6; en; rv:1.9.0.19) Gecko/2011032020 Camino/2.0.7 (like Firefox/3.0.19)\",\n",
    "    \"Mozilla/5.0 (Macintosh; U; Intel Mac OS X; en; rv:1.8.1.14) Gecko/20080409 Camino/1.6 (like Firefox/2.0.0.14)\",\n",
    "    \"Mozilla/5.0 (Windows NT 6.0) AppleWebKit/535.7 (KHTML, like Gecko) Chrome/16.0.912.63 Safari/535.7\",\n",
    "    \"Mozilla/5.0 (Windows NT 5.1) AppleWebKit/535.2 (KHTML, like Gecko) Chrome/15.0.874.121 Safari/535.2\",\n",
    "    \"Mozilla/5.0 (Windows NT 6.1; WOW64) AppleWebKit/535.1 (KHTML, like Gecko) Chrome/14.0.835.202 Safari/535.1\",\n",
    "    \"Mozilla/5.0 (Windows NT 6.0; WOW64) AppleWebKit/535.1 (KHTML, like Gecko) Chrome/14.0.835.186 Safari/535.1\",\n",
    "    \"Mozilla/5.0 (Windows NT 6.0; WOW64) AppleWebKit/535.1 (KHTML, like Gecko) Chrome/14.0.835.126 Safari/535.1\",\n",
    "    \"Mozilla/5.0 (X11; U; OpenBSD i386; en-US; rv:1.8.1.14) Gecko/20080821 Firefox/2.0.0.14\",\n",
    "    \"Mozilla/5.0 (Windows; U; Windows NT 5.1; en-US; rv:1.7.13) Gecko/20060410 Firefox/1.0.8\",\n",
    "    \"Mozilla/5.0 (Windows; U; Windows NT 5.1; en-US; rv:1.7.3) Gecko/20041002 Firefox/0.10.1\",\n",
    "    \"Mozilla/5.0 (X11; U; SunOS sun4m; en-US; rv:1.4b) Gecko/20030517 Mozilla Firebird/0.6\",\n",
    "    \"Mozilla/5.0 (Windows; U; WinNT4.0; en-US; rv:1.3a) Gecko/20021207 Phoenix/0.5\",\n",
    "    \"Mozilla/5.0 (Windows; U; Windows NT 5.1; en-US; rv:1.2b) Gecko/20020923 Phoenix/0.1\",\n",
    "    \"Mozilla/5.0 (X11; U; Linux i686; en-US; rv:1.9.0.3) Gecko/2008100716 Firefox/3.0.3 Flock/2.0\",\n",
    "    \"Mozilla/5.0 (X11; U; Linux i686; en-US; rv:1.8.0.4) Gecko/20060612 Firefox/1.5.0.4 Flock/0.7.0.17.1\",\n",
    "    \"Mozilla/5.0 (Windows; U; Windows NT 5.1; en-US; rv:1.8b5) Gecko/20051019 Flock/0.4 Firefox/1.0+\",\n",
    "    \"Mozilla/5.0 (X11; U; OpenBSD i386; en-US; rv:1.8.1.19) Gecko/20090701 Galeon/2.0.7\",\n",
    "    \"Mozilla/5.0 (Windows; Windows i686) KHTML/4.8.0 (like Gecko) Konqueror/4.8\",\n",
    "    \"Mozilla/5.0 (compatible; Konqueror/4.0; Microsoft Windows) KHTML/4.0.80 (like Gecko)\",\n",
    "    \"Mozilla/5.0 (compatible; Konqueror/4.0; Linux) KHTML/4.0.5 (like Gecko)\",\n",
    "    \"Mozilla/5.0 (compatible; Konqueror/4.0; Microsoft Windows) KHTML/4.0.80 (like Gecko)\",\n",
    "    \"Mozilla/5.0 (compatible; Konqueror/3.5; GNU/kFreeBSD) KHTML/3.5.9 (like Gecko) (Debian)\",\n",
    "    \"Mozilla/5.0 (compatible; Konqueror/3.5; Darwin)  KHTML/3.5.6 (like Gecko)\",\n",
    "    \"Mozilla/5.0 (compatible; Konqueror/3.5; Linux; X11; x86_64) KHTML/3.5.6 (like Gecko) (Kubuntu)\",\n",
    "    \"Mozilla/5.0 (compatible; Konqueror/3.4; GNU/kFreeBSD) KHTML/3.4.2 (like Gecko) (Debian package 4:3.4.2-4)\",\n",
    "    \"Mozilla/5.0 (compatible; Konqueror/3.4; CYGWIN_NT-5.1) KHTML/3.4.89 (like Gecko)\",\n",
    "    \"Mozilla/5.0 (X11; U; Linux i686; en-US; rv:1.9.1.9) Gecko/20100508 SeaMonkey/2.0.4\",\n",
    "    \"Mozilla/5.0 (X11; U; Linux i686; nb-NO; rv:1.9.1.8) Gecko/20100205 SeaMonkey/2.0.3\",\n",
    "    \"Mozilla/5.0 (X11; U; Linux i686; en-US; rv:1.9.1b4pre) Gecko/20090405 SeaMonkey/2.0b1pre\",\n",
    "    \"Mozilla/5.0 (X11; U; Linux i686; en-US; rv:1.9.1b1pre) Gecko/20080915000512 SeaMonkey/2.0a1pre\",\n",
    "    \"Mozilla/5.0 (X11; U; Linux i686; en-US; rv:1.9pre) Gecko/2008060901 SeaMonkey/2.0a1pre\",\n",
    "    \"Mozilla/5.0 (X11; U; Linux i686; en-US; rv:1.8.1.13) Gecko/20080313 SeaMonkey/1.1.9 (Ubuntu-1.1.9+nobinonly-0ubuntu1)\",\n",
    "    \"Mozilla/5.0 (X11; U; SunOS sun4u; en-US; rv:1.7) Gecko/20070606\",\n",
    "    \"Mozilla/5.0 (X11; U; Linux i686; en-US; rv:1.7.8) Gecko/20050927 Debian/1.7.8-1sarge3\",\n",
    "    \"Mozilla/5.0 (X11; U; Linux i686; en-US; rv:1.8.1b2) Gecko/20060823 SeaMonkey/1.1a\",\n",
    "    \"Mozilla/5.0 (X11; U; Linux i686; en-US; rv:1.7.13) Gecko/20060417\",\n",
    "]\n",
    "\n",
    "ippool=['27.46.48.91:9797', '118.251.209.144:9000', '122.245.59.213:8118', '61.155.164.107:3128', '220.187.230.151:8118',\n",
    "        '122.114.31.177:808', '61.135.217.7:80', '118.81.71.180:9797', '182.88.5.183:9797', '183.30.201.127:9797',\n",
    "        '218.77.226.143:8118', '113.78.255.47:9000', '222.212.185.2:8888', '115.212.177.181:9999', '115.29.236.46:3128',\n",
    "        '123.162.194.125:25188', '110.73.35.89:8123', '61.155.164.111:3128', '112.238.18.122:8118', '115.46.72.250:8123',\n",
    "        '114.228.26.2:8118', '203.174.112.13:3128', '106.120.44.4:9000', '61.155.164.110:3128', '113.78.67.198:9797',\n",
    "        '112.114.96.69:8118', '14.20.235.101:9797', '49.76.160.180:8123', '182.42.244.210:808', '139.129.166.68:3128', \n",
    "        '112.114.97.15:8118', '27.44.166.177:9999', '110.80.152.65:8118', '106.42.99.68:808', '180.169.79.12:9999',\n",
    "        '1.196.161.162:9999', '222.89.97.175:9000', '110.73.2.247:8123', '113.121.184.61:46600', '171.37.155.162:8123',\n",
    "        '101.31.146.3:80', '27.44.154.22:9999', '121.31.103.194:8123', '112.114.95.64:8118', '124.162.40.255:8118',\n",
    "        '163.125.69.2:8888', '202.103.14.155:8118', '182.88.160.169:8123', '222.94.146.223:808', '112.114.76.221:8118',\n",
    "        '163.125.69.84:8888', '171.37.168.58:8123', '120.43.60.207:31786', '122.236.158.78:8118', '113.105.200.19:3128',\n",
    "        '113.121.240.157:808', '110.73.3.141:8123', '121.31.199.49:8123', '110.73.8.237:8123', '122.225.17.123:8080',\n",
    "        '110.73.48.241:8123', '218.73.132.42:31583', '110.73.34.216:8123', '175.150.127.84:8888', '121.31.150.39:8123',\n",
    "        '27.44.165.199:9797', '183.129.89.109:8888', '110.73.8.168:8123', '171.39.0.67:8123', '112.114.93.148:8118',\n",
    "        '113.118.199.228:8118', '101.17.27.19:8118', '115.46.74.118:8123', '113.121.240.193:43193', '113.116.125.157:9797',\n",
    "        '113.79.74.109:9797', '218.19.247.156:9000', '222.129.136.21:1080', '121.206.68.78:25332', '121.31.149.75:8123',\n",
    "        '219.149.59.250:9797', '112.114.76.37:8118', '122.225.11.12:1080', '121.31.197.120:8123', '218.27.167.8:80',\n",
    "        '114.230.41.246:3128', '221.217.54.249:9000', '115.216.2.84:80', '110.72.181.221:8123', '124.228.239.174:3128',\n",
    "        '182.88.15.68:8123', '27.197.188.99:8118', '171.124.13.136:80', '110.73.52.142:8123', '113.121.241.122:808', \n",
    "        '110.73.10.197:8123', '39.86.41.72:8118', '110.73.55.80:8123', '222.186.45.59:62386', '182.90.88.142:8123']\n",
    "\n",
    "plist=['/anhui', '/beijing', '/chongqing', '/fujian', '/gansu', '/guangdong', '/guangxi', '/guizhou', '/hainan', '/hebei',\n",
    "       '/heilongjiang', '/henan', '/hubei', '/hunan', '/jiangsu', '/jiangxi', '/jilin', '/liaoning', '/neimenggu', '/ningxia',\n",
    "       '/qinghai', '/shaanxi', '/shandong', '/shanghai', '/shanxi', '/sichuan', '/tianjin', '/xinjiang', '/xizang', '/yunnan',\n",
    "       '/zhejiang']\n",
    "allnum=[160429, 261282, 115171, 187713, 56403, 562713, 111600, 58942, 23438, 202710, 117451, 270128, 230766, 173523, 582170, \n",
    "        103391, 97430, 275539, 83644, 18505, 13338, 126985, 479796, 348127, 108985, 205876, 135858, 57154, 4247, 84527, 488957]"
   ]
  },
  {
   "cell_type": "code",
   "execution_count": 15,
   "metadata": {},
   "outputs": [
    {
     "name": "stdout",
     "output_type": "stream",
     "text": [
      "/shandong 479796\n"
     ]
    }
   ],
   "source": [
    "num=22\n",
    "print(plist[num],allnum[num])"
   ]
  },
  {
   "cell_type": "code",
   "execution_count": null,
   "metadata": {},
   "outputs": [],
   "source": [
    "#2008前\n",
    "for p in range(23,31):\n",
    "    print(plist[p],p)\n",
    "    file=\"E:/Py/com/minglu/b\"+plist[p]+\".txt\"\n",
    "    page_num=20000\n",
    "    for page in range(0,page_num):#page_num+1\n",
    "        print('page:',page,p)\n",
    "        #time.sleep(random.uniform(1,3))\n",
    "        url='https://pucha2008.mingluji.com'+plist[p]+'/dnb?page='+str(page)\n",
    "        proxies={'http':'http://'+random.choice(ippool)}\n",
    "        try:\n",
    "            headers={'User-Agent':random.choice(agentpool)}\n",
    "            res=requests.get(url,headers=headers,proxies=proxies,timeout=10)\n",
    "        except:\n",
    "            print('重新尝试')\n",
    "            time.sleep(5)\n",
    "            headers={'User-Agent':random.choice(agentpool)}\n",
    "            proxies={'http':'http://'+random.choice(ippool)}\n",
    "            res=requests.get(url,headers=headers,proxies=proxies,timeout=20)\n",
    "        soup=BeautifulSoup(res.text,'lxml')\n",
    "        if not soup.find('td', class_=\"views-field views-field-title\"):\n",
    "            break\n",
    "        tlist=soup.find_all('td', class_=\"views-field views-field-title\")\n",
    "        with open(file,'a',encoding='utf-8') as f:\n",
    "            for t in tlist:\n",
    "                f.write(t.text.strip()+'\\n')\n",
    "        #print('n:',n,'p:',p)\n",
    "            #n+=1\n",
    "print('完成！')"
   ]
  },
  {
   "cell_type": "code",
   "execution_count": null,
   "metadata": {
    "collapsed": true
   },
   "outputs": [],
   "source": []
  }
 ],
 "metadata": {
  "kernelspec": {
   "display_name": "Python 3",
   "language": "python",
   "name": "python3"
  },
  "language_info": {
   "codemirror_mode": {
    "name": "ipython",
    "version": 3
   },
   "file_extension": ".py",
   "mimetype": "text/x-python",
   "name": "python",
   "nbconvert_exporter": "python",
   "pygments_lexer": "ipython3",
   "version": "3.5.2"
  }
 },
 "nbformat": 4,
 "nbformat_minor": 2
}
